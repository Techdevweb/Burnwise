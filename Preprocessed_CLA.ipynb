{
  "cells":[
    {
      "cell_type":"markdown",
      "source":[
        "# Code for preprocessing the data for training a Classifier"
      ],
      "attachments":{
        
      },
      "metadata":{
        
      }
    },
    {
      "cell_type":"markdown",
      "source":[
        "###### Note : following code is an example for preprocessing the data for a classifier\n",
        "###### this code is based on left shoulder and elbow coordinates"
      ],
      "attachments":{
        
      },
      "metadata":{
        
      }
    },
    {
      "cell_type":"markdown",
      "source":[
        "### Importing Necessary Libraries"
      ],
      "attachments":{
        
      },
      "metadata":{
        
      }
    },
    {
      "cell_type":"code",
      "source":[
        "import numpy as np\n",
        "import pandas as pd\n",
        "import matplotlib.pyplot as plt"
      ],
      "execution_count":1,
      "outputs":[
        
      ],
      "metadata":{
        
      }
    },
    {
      "cell_type":"markdown",
      "source":[
        "### Reading Data"
      ],
      "attachments":{
        
      },
      "metadata":{
        
      }
    },
    {
      "cell_type":"code",
      "source":[
        "df = pd.read_csv('data.csv')\n",
        "df.head()"
      ],
      "execution_count":2,
      "outputs":[
        {
          "data":{
            "text\/html":[
              "<div>\n",
              "<style scoped>\n",
              "    .dataframe tbody tr th:only-of-type {\n",
              "        vertical-align: middle;\n",
              "    }\n",
              "\n",
              "    .dataframe tbody tr th {\n",
              "        vertical-align: top;\n",
              "    }\n",
              "\n",
              "    .dataframe thead th {\n",
              "        text-align: right;\n",
              "    }\n",
              "<\/style>\n",
              "<table border=\"1\" class=\"dataframe\">\n",
              "  <thead>\n",
              "    <tr style=\"text-align: right;\">\n",
              "      <th><\/th>\n",
              "      <th>0_x<\/th>\n",
              "      <th>0_y<\/th>\n",
              "      <th>0_z<\/th>\n",
              "      <th>0_vis<\/th>\n",
              "      <th>1_x<\/th>\n",
              "      <th>1_y<\/th>\n",
              "      <th>1_z<\/th>\n",
              "      <th>1_vis<\/th>\n",
              "      <th>2_x<\/th>\n",
              "      <th>2_y<\/th>\n",
              "      <th>...<\/th>\n",
              "      <th>30_z<\/th>\n",
              "      <th>30_vis<\/th>\n",
              "      <th>31_x<\/th>\n",
              "      <th>31_y<\/th>\n",
              "      <th>31_z<\/th>\n",
              "      <th>31_vis<\/th>\n",
              "      <th>32_x<\/th>\n",
              "      <th>32_y<\/th>\n",
              "      <th>32_z<\/th>\n",
              "      <th>32_vis<\/th>\n",
              "    <\/tr>\n",
              "  <\/thead>\n",
              "  <tbody>\n",
              "    <tr>\n",
              "      <th>0<\/th>\n",
              "      <td>-0.513346<\/td>\n",
              "      <td>-0.486864<\/td>\n",
              "      <td>0.978329<\/td>\n",
              "      <td>1.0<\/td>\n",
              "      <td>-0.537284<\/td>\n",
              "      <td>-0.468331<\/td>\n",
              "      <td>0.907438<\/td>\n",
              "      <td>1.0<\/td>\n",
              "      <td>-0.551415<\/td>\n",
              "      <td>-0.468160<\/td>\n",
              "      <td>...<\/td>\n",
              "      <td>-0.712293<\/td>\n",
              "      <td>0.004528<\/td>\n",
              "      <td>-0.563900<\/td>\n",
              "      <td>-1.402235<\/td>\n",
              "      <td>-0.169188<\/td>\n",
              "      <td>0.001297<\/td>\n",
              "      <td>-0.414179<\/td>\n",
              "      <td>-1.400190<\/td>\n",
              "      <td>-0.236010<\/td>\n",
              "      <td>0.001425<\/td>\n",
              "    <\/tr>\n",
              "    <tr>\n",
              "      <th>1<\/th>\n",
              "      <td>-0.516051<\/td>\n",
              "      <td>-0.487786<\/td>\n",
              "      <td>0.801669<\/td>\n",
              "      <td>1.0<\/td>\n",
              "      <td>-0.540958<\/td>\n",
              "      <td>-0.469537<\/td>\n",
              "      <td>0.745705<\/td>\n",
              "      <td>1.0<\/td>\n",
              "      <td>-0.554932<\/td>\n",
              "      <td>-0.469614<\/td>\n",
              "      <td>...<\/td>\n",
              "      <td>-0.586721<\/td>\n",
              "      <td>0.003706<\/td>\n",
              "      <td>-0.546744<\/td>\n",
              "      <td>-1.396654<\/td>\n",
              "      <td>-0.105789<\/td>\n",
              "      <td>0.000889<\/td>\n",
              "      <td>-0.416563<\/td>\n",
              "      <td>-1.392031<\/td>\n",
              "      <td>-0.177770<\/td>\n",
              "      <td>0.000804<\/td>\n",
              "    <\/tr>\n",
              "    <tr>\n",
              "      <th>2<\/th>\n",
              "      <td>-0.517325<\/td>\n",
              "      <td>-0.486723<\/td>\n",
              "      <td>0.786777<\/td>\n",
              "      <td>1.0<\/td>\n",
              "      <td>-0.542302<\/td>\n",
              "      <td>-0.468774<\/td>\n",
              "      <td>0.730178<\/td>\n",
              "      <td>1.0<\/td>\n",
              "      <td>-0.556188<\/td>\n",
              "      <td>-0.468928<\/td>\n",
              "      <td>...<\/td>\n",
              "      <td>-0.572160<\/td>\n",
              "      <td>0.004798<\/td>\n",
              "      <td>-0.549911<\/td>\n",
              "      <td>-1.392735<\/td>\n",
              "      <td>-0.099640<\/td>\n",
              "      <td>0.001099<\/td>\n",
              "      <td>-0.424577<\/td>\n",
              "      <td>-1.388623<\/td>\n",
              "      <td>-0.168463<\/td>\n",
              "      <td>0.000999<\/td>\n",
              "    <\/tr>\n",
              "    <tr>\n",
              "      <th>3<\/th>\n",
              "      <td>-0.517781<\/td>\n",
              "      <td>-0.486719<\/td>\n",
              "      <td>0.770728<\/td>\n",
              "      <td>1.0<\/td>\n",
              "      <td>-0.542295<\/td>\n",
              "      <td>-0.468731<\/td>\n",
              "      <td>0.714361<\/td>\n",
              "      <td>1.0<\/td>\n",
              "      <td>-0.556079<\/td>\n",
              "      <td>-0.468834<\/td>\n",
              "      <td>...<\/td>\n",
              "      <td>-0.563850<\/td>\n",
              "      <td>0.004306<\/td>\n",
              "      <td>-0.552028<\/td>\n",
              "      <td>-1.392125<\/td>\n",
              "      <td>-0.066083<\/td>\n",
              "      <td>0.000939<\/td>\n",
              "      <td>-0.423960<\/td>\n",
              "      <td>-1.386563<\/td>\n",
              "      <td>-0.159205<\/td>\n",
              "      <td>0.000809<\/td>\n",
              "    <\/tr>\n",
              "    <tr>\n",
              "      <th>4<\/th>\n",
              "      <td>-0.519239<\/td>\n",
              "      <td>-0.487284<\/td>\n",
              "      <td>0.833225<\/td>\n",
              "      <td>1.0<\/td>\n",
              "      <td>-0.543011<\/td>\n",
              "      <td>-0.469002<\/td>\n",
              "      <td>0.772886<\/td>\n",
              "      <td>1.0<\/td>\n",
              "      <td>-0.556789<\/td>\n",
              "      <td>-0.469014<\/td>\n",
              "      <td>...<\/td>\n",
              "      <td>-0.574910<\/td>\n",
              "      <td>0.003707<\/td>\n",
              "      <td>-0.566962<\/td>\n",
              "      <td>-1.390860<\/td>\n",
              "      <td>-0.077285<\/td>\n",
              "      <td>0.000848<\/td>\n",
              "      <td>-0.432768<\/td>\n",
              "      <td>-1.386580<\/td>\n",
              "      <td>-0.154454<\/td>\n",
              "      <td>0.000748<\/td>\n",
              "    <\/tr>\n",
              "  <\/tbody>\n",
              "<\/table>\n",
              "<p>5 rows × 132 columns<\/p>\n",
              "<\/div>"
            ]
          },
          "metadata":{
            
          },
          "output_type":"display_data"
        }
      ],
      "metadata":{
        
      }
    },
    {
      "cell_type":"code",
      "source":[
        "#collecting metadata\n",
        "data = df[['11_x', '11_y', '13_x', '13_y']]"
      ],
      "execution_count":3,
      "outputs":[
        
      ],
      "metadata":{
        
      }
    },
    {
      "cell_type":"code",
      "source":[
        "#renaming columns\n",
        "data.columns = ['left_shoulder_X', 'left_shoulder_Y',\n",
        "                'left_elbow_X', 'left_elbow_Y']"
      ],
      "execution_count":4,
      "outputs":[
        
      ],
      "metadata":{
        
      }
    },
    {
      "cell_type":"code",
      "source":[
        "#useful metadata\n",
        "data.head()"
      ],
      "execution_count":5,
      "outputs":[
        {
          "data":{
            "text\/html":[
              "<div>\n",
              "<style scoped>\n",
              "    .dataframe tbody tr th:only-of-type {\n",
              "        vertical-align: middle;\n",
              "    }\n",
              "\n",
              "    .dataframe tbody tr th {\n",
              "        vertical-align: top;\n",
              "    }\n",
              "\n",
              "    .dataframe thead th {\n",
              "        text-align: right;\n",
              "    }\n",
              "<\/style>\n",
              "<table border=\"1\" class=\"dataframe\">\n",
              "  <thead>\n",
              "    <tr style=\"text-align: right;\">\n",
              "      <th><\/th>\n",
              "      <th>left_shoulder_X<\/th>\n",
              "      <th>left_shoulder_Y<\/th>\n",
              "      <th>left_elbow_X<\/th>\n",
              "      <th>left_elbow_Y<\/th>\n",
              "    <\/tr>\n",
              "  <\/thead>\n",
              "  <tbody>\n",
              "    <tr>\n",
              "      <th>0<\/th>\n",
              "      <td>-0.701167<\/td>\n",
              "      <td>-0.579701<\/td>\n",
              "      <td>-0.946057<\/td>\n",
              "      <td>-0.599737<\/td>\n",
              "    <\/tr>\n",
              "    <tr>\n",
              "      <th>1<\/th>\n",
              "      <td>-0.703238<\/td>\n",
              "      <td>-0.579433<\/td>\n",
              "      <td>-0.941791<\/td>\n",
              "      <td>-0.608207<\/td>\n",
              "    <\/tr>\n",
              "    <tr>\n",
              "      <th>2<\/th>\n",
              "      <td>-0.700262<\/td>\n",
              "      <td>-0.579484<\/td>\n",
              "      <td>-0.940807<\/td>\n",
              "      <td>-0.608857<\/td>\n",
              "    <\/tr>\n",
              "    <tr>\n",
              "      <th>3<\/th>\n",
              "      <td>-0.699332<\/td>\n",
              "      <td>-0.578418<\/td>\n",
              "      <td>-0.936533<\/td>\n",
              "      <td>-0.613209<\/td>\n",
              "    <\/tr>\n",
              "    <tr>\n",
              "      <th>4<\/th>\n",
              "      <td>-0.701886<\/td>\n",
              "      <td>-0.577890<\/td>\n",
              "      <td>-0.936760<\/td>\n",
              "      <td>-0.610650<\/td>\n",
              "    <\/tr>\n",
              "  <\/tbody>\n",
              "<\/table>\n",
              "<\/div>"
            ]
          },
          "metadata":{
            
          },
          "output_type":"display_data"
        }
      ],
      "metadata":{
        
      }
    },
    {
      "cell_type":"markdown",
      "source":[
        "### Preprocess"
      ],
      "attachments":{
        
      },
      "metadata":{
        
      }
    },
    {
      "cell_type":"code",
      "source":[
        "#getting the values\n",
        "x1 = data['left_elbow_X']\n",
        "y1 = data['left_elbow_Y']\n",
        "x2 = data['left_shoulder_X']\n",
        "y2 = data['left_shoulder_Y']"
      ],
      "execution_count":6,
      "outputs":[
        
      ],
      "metadata":{
        
      }
    },
    {
      "cell_type":"code",
      "source":[
        "#displaying raw metadata\n",
        "fig = plt.figure()\n",
        "ax1 = fig.add_subplot(111)\n",
        "ax1.scatter(x1, y1, s = 10, c = 'b', label = 'elbow')\n",
        "ax1.scatter(x2, y2, s = 10, c = 'r', label = 'shoulder')\n",
        "plt.legend(loc='upper right');\n",
        "plt.show()"
      ],
      "execution_count":7,
      "outputs":[
        {
          "data":{
            "image\/png":"[encoded data removed]"
          },
          "metadata":{
            "image\/png":{
              
            }
          },
          "output_type":"display_data"
        }
      ],
      "metadata":{
        
      }
    },
    {
      "cell_type":"code",
      "source":[
        "#calculating mean of the shoulder, cause its the origin in this scenario\n",
        "dx = x2.mean()\n",
        "dy = y2.mean()"
      ],
      "execution_count":8,
      "outputs":[
        
      ],
      "metadata":{
        
      }
    },
    {
      "cell_type":"code",
      "source":[
        "#some important functions\n",
        "\n",
        "\n",
        "#slope formula\n",
        "def slope(x1, y1, x2, y2):\n",
        "    return (y2 - y1) \/ (x2 - x1)\n",
        "\n",
        "#rounding off the values for elbow coordinates into an arc\n",
        "def roundoff(x1, y1, x2, y2):\n",
        "    s = slope(x1, y1, x2, y2)\n",
        "    d = 1\n",
        "    x = d * ((d**2) \/ (1+s**2))**0.5\n",
        "    y = s*x\n",
        "    return -round(x, 3), -round(y, 3)"
      ],
      "execution_count":9,
      "outputs":[
        
      ],
      "metadata":{
        
      }
    },
    {
      "cell_type":"code",
      "source":[
        "#rounded-off data\n",
        "a, b = roundoff(x2, y2, x1, y1)"
      ],
      "execution_count":10,
      "outputs":[
        
      ],
      "metadata":{
        
      }
    },
    {
      "cell_type":"code",
      "source":[
        "#displaying rounded data\n",
        "fig = plt.figure()\n",
        "ax1 = fig.add_subplot(111)\n",
        "ax1.scatter(dx, dy, s = 100, c = 'green', label = 'shoulder')\n",
        "ax1.scatter(a, b, s = 10, c = 'b', label = 'elbow')\n",
        "plt.legend(loc='upper right');\n",
        "plt.show()"
      ],
      "execution_count":11,
      "outputs":[
        {
          "data":{
            "image\/png":"[encoded data removed]"
          },
          "metadata":{
            "image\/png":{
              
            }
          },
          "output_type":"display_data"
        }
      ],
      "metadata":{
        
      }
    },
    {
      "cell_type":"markdown",
      "source":[
        "#### Generating Fake Data"
      ],
      "attachments":{
        
      },
      "metadata":{
        
      }
    },
    {
      "cell_type":"code",
      "source":[
        "fakex = []\n",
        "fakey = []\n",
        "def roundoff_fake():\n",
        "    for i in np.arange(-0.600, 1.000, 0.001):\n",
        "        for j in np.arange(-1.000, 1.000, 0.001):\n",
        "            if float(\"{0:.3}\".format(i**2 + j**2)) == 1 :\n",
        "                fakex.append(i)\n",
        "                fakey.append(j)\n",
        "roundoff_fake()"
      ],
      "execution_count":12,
      "outputs":[
        
      ],
      "metadata":{
        
      }
    },
    {
      "cell_type":"code",
      "source":[
        "#displaying fake rounded data\n",
        "fig = plt.figure()\n",
        "ax1 = fig.add_subplot(111)\n",
        "ax1.scatter(fakex, fakey, s = 10, c = 'green', label = 'fake_elbow')\n",
        "ax1.scatter(a, b, s = 10, c = 'b', label = 'elbow')\n",
        "ax1.scatter(0, 0, s = 100, c = 'red', label = 'shoulder')\n",
        "plt.legend(loc='upper right');\n",
        "plt.show()"
      ],
      "execution_count":13,
      "outputs":[
        {
          "data":{
            "image\/png":"[encoded data removed]"
          },
          "metadata":{
            "image\/png":{
              
            }
          },
          "output_type":"display_data"
        }
      ],
      "metadata":{
        
      }
    },
    {
      "cell_type":"markdown",
      "source":[
        "#### Converting to a DataFrame"
      ],
      "attachments":{
        
      },
      "metadata":{
        
      }
    },
    {
      "cell_type":"code",
      "source":[
        "x = []\n",
        "y = []\n",
        "z = []\n",
        "\n",
        "x.extend(a)\n",
        "y.extend(b)\n",
        "z1 = [1]*len(x)\n",
        "z.extend(z1)\n",
        "\n",
        "x.extend(fakex)\n",
        "y.extend(fakey)\n",
        "z2 = [0]*len(fakex)\n",
        "z.extend(z2)\n",
        "\n",
        "final_data = pd.DataFrame({'x': x,'y': y, 'z': z})"
      ],
      "execution_count":14,
      "outputs":[
        
      ],
      "metadata":{
        
      }
    },
    {
      "cell_type":"code",
      "source":[
        "final_data.head()"
      ],
      "execution_count":15,
      "outputs":[
        {
          "data":{
            "text\/html":[
              "<div>\n",
              "<style scoped>\n",
              "    .dataframe tbody tr th:only-of-type {\n",
              "        vertical-align: middle;\n",
              "    }\n",
              "\n",
              "    .dataframe tbody tr th {\n",
              "        vertical-align: top;\n",
              "    }\n",
              "\n",
              "    .dataframe thead th {\n",
              "        text-align: right;\n",
              "    }\n",
              "<\/style>\n",
              "<table border=\"1\" class=\"dataframe\">\n",
              "  <thead>\n",
              "    <tr style=\"text-align: right;\">\n",
              "      <th><\/th>\n",
              "      <th>x<\/th>\n",
              "      <th>y<\/th>\n",
              "      <th>z<\/th>\n",
              "    <\/tr>\n",
              "  <\/thead>\n",
              "  <tbody>\n",
              "    <tr>\n",
              "      <th>0<\/th>\n",
              "      <td>-0.997<\/td>\n",
              "      <td>-0.082<\/td>\n",
              "      <td>1<\/td>\n",
              "    <\/tr>\n",
              "    <tr>\n",
              "      <th>1<\/th>\n",
              "      <td>-0.993<\/td>\n",
              "      <td>-0.120<\/td>\n",
              "      <td>1<\/td>\n",
              "    <\/tr>\n",
              "    <tr>\n",
              "      <th>2<\/th>\n",
              "      <td>-0.993<\/td>\n",
              "      <td>-0.121<\/td>\n",
              "      <td>1<\/td>\n",
              "    <\/tr>\n",
              "    <tr>\n",
              "      <th>3<\/th>\n",
              "      <td>-0.989<\/td>\n",
              "      <td>-0.145<\/td>\n",
              "      <td>1<\/td>\n",
              "    <\/tr>\n",
              "    <tr>\n",
              "      <th>4<\/th>\n",
              "      <td>-0.990<\/td>\n",
              "      <td>-0.138<\/td>\n",
              "      <td>1<\/td>\n",
              "    <\/tr>\n",
              "  <\/tbody>\n",
              "<\/table>\n",
              "<\/div>"
            ]
          },
          "metadata":{
            
          },
          "output_type":"display_data"
        }
      ],
      "metadata":{
        
      }
    },
    {
      "cell_type":"markdown",
      "source":[
        "### Reference for Training a Classifier"
      ],
      "attachments":{
        
      },
      "metadata":{
        
      }
    },
    {
      "cell_type":"code",
      "source":[
        "x= final_data.iloc[:, :2].values\n",
        "y= final_data.iloc[:, 2].values"
      ],
      "execution_count":16,
      "outputs":[
        
      ],
      "metadata":{
        
      }
    },
    {
      "cell_type":"code",
      "source":[
        "x"
      ],
      "execution_count":17,
      "outputs":[
        {
          "data":{
            "text\/plain":[
              "array([[-0.997, -0.082],\n",
              "       [-0.993, -0.12 ],\n",
              "       [-0.993, -0.121],\n",
              "       ...,\n",
              "       [ 0.999,  0.081],\n",
              "       [ 0.999,  0.082],\n",
              "       [ 0.999,  0.083]])"
            ]
          },
          "metadata":{
            
          },
          "output_type":"display_data"
        }
      ],
      "metadata":{
        
      }
    },
    {
      "cell_type":"code",
      "source":[
        "y"
      ],
      "execution_count":18,
      "outputs":[
        {
          "data":{
            "text\/plain":[
              "array([1, 1, 1, ..., 0, 0, 0])"
            ]
          },
          "metadata":{
            
          },
          "output_type":"display_data"
        }
      ],
      "metadata":{
        
      }
    },
    {
      "cell_type":"markdown",
      "source":[
        "# Let's import keras & keras tuner "
      ],
      "attachments":{
        
      },
      "metadata":{
        
      }
    },
    {
      "cell_type":"code",
      "source":[
        "from tensorflow import keras\n",
        "from tensorflow.keras import layers\n",
        "from keras_tuner.tuners import RandomSearch"
      ],
      "execution_count":19,
      "outputs":[
        
      ],
      "metadata":{
        
      }
    },
    {
      "cell_type":"markdown",
      "source":[
        "## **Now** let's define the range for number of layers and nodes."
      ],
      "attachments":{
        
      },
      "metadata":{
        
      }
    },
    {
      "cell_type":"code",
      "source":[
        "def reg_model(hp):\n",
        "    model=keras.Sequential()\n",
        "    for i in range(hp.Int('num_layers',2,20)):\n",
        "        model.add(layers.Dense(units=hp.Int('units'+str(i),\n",
        "                                            min_value=32,\n",
        "                                            max_value=512,\n",
        "                                            step=32),\n",
        "                               activation='relu'))\n",
        "    model.add(layers.Dense(1,activation='softmax'))\n",
        "    model.compile(\n",
        "                  optimizer=keras.optimizers.Adam(\n",
        "                                                  hp.Choice('learning_rate',[1e-2,1e-3,1e-4])\n",
        "                  ),\n",
        "                  loss='binary_crossentropy',\n",
        "                  metrics=['accuracy']\n",
        "    )\n",
        "    return model"
      ],
      "execution_count":20,
      "outputs":[
        
      ],
      "metadata":{
        
      }
    },
    {
      "cell_type":"markdown",
      "source":[
        "# **Let the search begin.**"
      ],
      "attachments":{
        
      },
      "metadata":{
        
      }
    },
    {
      "cell_type":"code",
      "source":[
        "tuner=RandomSearch(\n",
        "                   reg_model,\n",
        "                   objective='val_accuracy',\n",
        "                   max_trials=5,\n",
        "                   executions_per_trial=3,\n",
        "                   directory='project',\n",
        "                   project_name='Pose estimation'\n",
        ")"
      ],
      "execution_count":21,
      "outputs":[
        {
          "name":"stdout",
          "text":[
            "INFO:tensorflow:Reloading Oracle from existing project project\/Pose estimation\/oracle.json\n",
            "INFO:tensorflow:Reloading Tuner from project\/Pose estimation\/tuner0.json\n"
          ],
          "output_type":"stream"
        }
      ],
      "metadata":{
        
      }
    },
    {
      "cell_type":"code",
      "source":[
        "tuner.search_space_summary()"
      ],
      "execution_count":22,
      "outputs":[
        {
          "name":"stdout",
          "text":[
            "Search space summary\n",
            "Default search space size: 18\n",
            "num_layers (Int)\n",
            "{'default': None, 'conditions': [], 'min_value': 2, 'max_value': 20, 'step': 1, 'sampling': None}\n",
            "units0 (Int)\n",
            "{'default': None, 'conditions': [], 'min_value': 32, 'max_value': 512, 'step': 32, 'sampling': None}\n",
            "units1 (Int)\n",
            "{'default': None, 'conditions': [], 'min_value': 32, 'max_value': 512, 'step': 32, 'sampling': None}\n",
            "learning_rate (Choice)\n",
            "{'default': 0.01, 'conditions': [], 'values': [0.01, 0.001, 0.0001], 'ordered': True}\n",
            "units2 (Int)\n",
            "{'default': None, 'conditions': [], 'min_value': 32, 'max_value': 512, 'step': 32, 'sampling': None}\n",
            "units3 (Int)\n",
            "{'default': None, 'conditions': [], 'min_value': 32, 'max_value': 512, 'step': 32, 'sampling': None}\n",
            "units4 (Int)\n",
            "{'default': None, 'conditions': [], 'min_value': 32, 'max_value': 512, 'step': 32, 'sampling': None}\n",
            "units5 (Int)\n",
            "{'default': None, 'conditions': [], 'min_value': 32, 'max_value': 512, 'step': 32, 'sampling': None}\n",
            "units6 (Int)\n",
            "{'default': None, 'conditions': [], 'min_value': 32, 'max_value': 512, 'step': 32, 'sampling': None}\n",
            "units7 (Int)\n",
            "{'default': None, 'conditions': [], 'min_value': 32, 'max_value': 512, 'step': 32, 'sampling': None}\n",
            "units8 (Int)\n",
            "{'default': None, 'conditions': [], 'min_value': 32, 'max_value': 512, 'step': 32, 'sampling': None}\n",
            "units9 (Int)\n",
            "{'default': None, 'conditions': [], 'min_value': 32, 'max_value': 512, 'step': 32, 'sampling': None}\n",
            "units10 (Int)\n",
            "{'default': None, 'conditions': [], 'min_value': 32, 'max_value': 512, 'step': 32, 'sampling': None}\n",
            "units11 (Int)\n",
            "{'default': None, 'conditions': [], 'min_value': 32, 'max_value': 512, 'step': 32, 'sampling': None}\n",
            "units12 (Int)\n",
            "{'default': None, 'conditions': [], 'min_value': 32, 'max_value': 512, 'step': 32, 'sampling': None}\n",
            "units13 (Int)\n",
            "{'default': None, 'conditions': [], 'min_value': 32, 'max_value': 512, 'step': 32, 'sampling': None}\n",
            "units14 (Int)\n",
            "{'default': None, 'conditions': [], 'min_value': 32, 'max_value': 512, 'step': 32, 'sampling': None}\n",
            "units15 (Int)\n",
            "{'default': None, 'conditions': [], 'min_value': 32, 'max_value': 512, 'step': 32, 'sampling': None}\n"
          ],
          "output_type":"stream"
        }
      ],
      "metadata":{
        
      }
    },
    {
      "cell_type":"markdown",
      "source":[
        "# Now let's splitting the data into training and testing set."
      ],
      "attachments":{
        
      },
      "metadata":{
        
      }
    },
    {
      "cell_type":"code",
      "source":[
        "from sklearn.model_selection import train_test_split\n",
        "X_train,X_test,y_train,y_test=train_test_split(x,y,test_size=0.3,random_state=0)"
      ],
      "execution_count":23,
      "outputs":[
        
      ],
      "metadata":{
        
      }
    },
    {
      "cell_type":"code",
      "source":[
        "tuner.search(X_train,y_train,epochs=10,validation_data=(X_test,y_test))"
      ],
      "execution_count":24,
      "outputs":[
        {
          "name":"stdout",
          "text":[
            "INFO:tensorflow:Oracle triggered exit\n"
          ],
          "output_type":"stream"
        }
      ],
      "metadata":{
        
      }
    },
    {
      "cell_type":"markdown",
      "source":[
        "# Let's get the best model."
      ],
      "attachments":{
        
      },
      "metadata":{
        
      }
    },
    {
      "cell_type":"code",
      "source":[
        "tuner.results_summary()"
      ],
      "execution_count":25,
      "outputs":[
        {
          "name":"stdout",
          "text":[
            "Results summary\n",
            "Results in project\/Pose estimation\n",
            "Showing 10 best trials\n",
            "Objective(name='val_accuracy', direction='max')\n",
            "Trial summary\n",
            "Hyperparameters:\n",
            "num_layers: 15\n",
            "units0: 224\n",
            "units1: 384\n",
            "learning_rate: 0.001\n",
            "units2: 160\n",
            "units3: 192\n",
            "units4: 256\n",
            "units5: 224\n",
            "units6: 256\n",
            "units7: 160\n",
            "units8: 32\n",
            "units9: 256\n",
            "units10: 352\n",
            "units11: 160\n",
            "units12: 512\n",
            "units13: 32\n",
            "units14: 448\n",
            "Score: 0.9069092869758606\n",
            "Trial summary\n",
            "Hyperparameters:\n",
            "num_layers: 15\n",
            "units0: 96\n",
            "units1: 384\n",
            "learning_rate: 0.01\n",
            "units2: 416\n",
            "units3: 320\n",
            "units4: 32\n",
            "units5: 32\n",
            "units6: 32\n",
            "units7: 32\n",
            "units8: 32\n",
            "units9: 32\n",
            "units10: 32\n",
            "units11: 32\n",
            "units12: 32\n",
            "units13: 32\n",
            "units14: 32\n",
            "Score: 0.9069092869758606\n",
            "Trial summary\n",
            "Hyperparameters:\n",
            "num_layers: 10\n",
            "units0: 480\n",
            "units1: 320\n",
            "learning_rate: 0.001\n",
            "units2: 320\n",
            "units3: 448\n",
            "units4: 224\n",
            "units5: 96\n",
            "units6: 256\n",
            "units7: 448\n",
            "units8: 128\n",
            "units9: 320\n",
            "units10: 256\n",
            "units11: 256\n",
            "units12: 224\n",
            "units13: 224\n",
            "units14: 320\n",
            "Score: 0.9069092869758606\n",
            "Trial summary\n",
            "Hyperparameters:\n",
            "num_layers: 14\n",
            "units0: 320\n",
            "units1: 32\n",
            "learning_rate: 0.0001\n",
            "units2: 320\n",
            "units3: 352\n",
            "units4: 320\n",
            "units5: 192\n",
            "units6: 256\n",
            "units7: 416\n",
            "units8: 416\n",
            "units9: 352\n",
            "units10: 64\n",
            "units11: 256\n",
            "units12: 160\n",
            "units13: 224\n",
            "units14: 256\n",
            "Score: 0.09309072047472\n",
            "Trial summary\n",
            "Hyperparameters:\n",
            "num_layers: 4\n",
            "units0: 416\n",
            "units1: 288\n",
            "learning_rate: 0.0001\n",
            "units2: 32\n",
            "units3: 32\n",
            "Score: 0.09309072047472\n",
            "Trial summary\n",
            "Hyperparameters:\n",
            "num_layers: 13\n",
            "units0: 256\n",
            "units1: 128\n",
            "learning_rate: 0.01\n",
            "units2: 128\n",
            "units3: 96\n",
            "units4: 288\n",
            "units5: 352\n",
            "units6: 224\n",
            "units7: 320\n",
            "units8: 224\n",
            "units9: 192\n",
            "units10: 160\n",
            "units11: 448\n",
            "units12: 288\n",
            "units13: 384\n",
            "units14: 128\n",
            "Score: 0.09309072047472\n",
            "Trial summary\n",
            "Hyperparameters:\n",
            "num_layers: 8\n",
            "units0: 480\n",
            "units1: 480\n",
            "learning_rate: 0.0001\n",
            "units2: 96\n",
            "units3: 224\n",
            "units4: 128\n",
            "units5: 480\n",
            "units6: 224\n",
            "units7: 320\n",
            "units8: 512\n",
            "units9: 352\n",
            "units10: 192\n",
            "units11: 384\n",
            "units12: 128\n",
            "units13: 480\n",
            "units14: 416\n",
            "Score: 0.09309072047472\n",
            "Trial summary\n",
            "Hyperparameters:\n",
            "num_layers: 11\n",
            "units0: 64\n",
            "units1: 480\n",
            "learning_rate: 0.0001\n",
            "units2: 384\n",
            "units3: 416\n",
            "units4: 448\n",
            "units5: 256\n",
            "units6: 320\n",
            "units7: 256\n",
            "units8: 192\n",
            "units9: 64\n",
            "units10: 160\n",
            "units11: 96\n",
            "units12: 256\n",
            "units13: 416\n",
            "units14: 384\n",
            "Score: 0.09309072047472\n",
            "Trial summary\n",
            "Hyperparameters:\n",
            "num_layers: 16\n",
            "units0: 352\n",
            "units1: 192\n",
            "learning_rate: 0.0001\n",
            "units2: 128\n",
            "units3: 416\n",
            "units4: 128\n",
            "units5: 384\n",
            "units6: 384\n",
            "units7: 384\n",
            "units8: 160\n",
            "units9: 160\n",
            "units10: 384\n",
            "units11: 192\n",
            "units12: 64\n",
            "units13: 448\n",
            "units14: 96\n",
            "units15: 32\n",
            "Score: 0.09309072047472\n",
            "Trial summary\n",
            "Hyperparameters:\n",
            "num_layers: 4\n",
            "units0: 96\n",
            "units1: 448\n",
            "learning_rate: 0.01\n",
            "units2: 128\n",
            "units3: 416\n",
            "units4: 256\n",
            "units5: 256\n",
            "units6: 384\n",
            "units7: 352\n",
            "units8: 96\n",
            "units9: 320\n",
            "units10: 448\n",
            "units11: 224\n",
            "units12: 160\n",
            "units13: 128\n",
            "units14: 288\n",
            "units15: 256\n",
            "Score: 0.09309072047472\n"
          ],
          "output_type":"stream"
        }
      ],
      "metadata":{
        
      }
    },
    {
      "cell_type":"markdown",
      "source":[
        "# Let's define our model with 15 layers."
      ],
      "attachments":{
        
      },
      "metadata":{
        
      }
    },
    {
      "cell_type":"code",
      "source":[
        "from tensorflow.keras.models import Sequential\n",
        "from tensorflow.keras.layers import Dense\n",
        "\n",
        "def classification_model():\n",
        "    # create model\n",
        "    model = Sequential()\n",
        "\n",
        "    model.add(Dense(96,activation='relu', input_shape=(2,)))\n",
        "    model.add(Dense(384, activation='relu'))\n",
        "    model.add(Dense(416, activation='relu'))\n",
        "    model.add(Dense(320, activation='relu'))\n",
        "    model.add(Dense(32, activation='relu'))\n",
        "    model.add(Dense(32, activation='relu'))\n",
        "    model.add(Dense(32, activation='relu'))\n",
        "    model.add(Dense(32, activation='relu'))\n",
        "    model.add(Dense(32, activation='relu'))\n",
        "    model.add(Dense(32, activation='relu'))\n",
        "    model.add(Dense(32, activation='relu'))\n",
        "    model.add(Dense(32, activation='relu'))\n",
        "    model.add(Dense(32, activation='relu'))\n",
        "    model.add(Dense(32, activation='relu'))\n",
        "    model.add(Dense(32, activation='relu'))\n",
        "    model.add(Dense(1, activation='sigmoid'))\n",
        "    \n",
        "    # compile model\n",
        "    model.compile(loss='binary_crossentropy', optimizer='adam', metrics=['accuracy'])\n",
        "    return model"
      ],
      "execution_count":26,
      "outputs":[
        
      ],
      "metadata":{
        
      }
    },
    {
      "cell_type":"code",
      "source":[
        "model=classification_model()"
      ],
      "execution_count":27,
      "outputs":[
        
      ],
      "metadata":{
        
      }
    },
    {
      "cell_type":"code",
      "source":[
        "model.fit(X_train, y_train, validation_split=0.3, epochs=100, verbose=2)"
      ],
      "execution_count":28,
      "outputs":[
        {
          "name":"stdout",
          "text":[
            "Epoch 1\/100\n",
            "194\/194 - 3s - loss: 0.0924 - accuracy: 0.9600 - val_loss: 2.6200e-06 - val_accuracy: 1.0000\n",
            "Epoch 2\/100\n",
            "194\/194 - 1s - loss: 1.2726e-06 - accuracy: 1.0000 - val_loss: 5.9116e-07 - val_accuracy: 1.0000\n",
            "Epoch 3\/100\n",
            "194\/194 - 1s - loss: 3.6796e-07 - accuracy: 1.0000 - val_loss: 2.2333e-07 - val_accuracy: 1.0000\n",
            "Epoch 4\/100\n",
            "194\/194 - 1s - loss: 1.8215e-07 - accuracy: 1.0000 - val_loss: 1.3288e-07 - val_accuracy: 1.0000\n",
            "Epoch 5\/100\n",
            "194\/194 - 1s - loss: 1.1659e-07 - accuracy: 1.0000 - val_loss: 7.9938e-08 - val_accuracy: 1.0000\n",
            "Epoch 6\/100\n",
            "194\/194 - 1s - loss: 5.6896e-08 - accuracy: 1.0000 - val_loss: 4.2750e-08 - val_accuracy: 1.0000\n",
            "Epoch 7\/100\n",
            "194\/194 - 1s - loss: 3.3773e-08 - accuracy: 1.0000 - val_loss: 2.7313e-08 - val_accuracy: 1.0000\n",
            "Epoch 8\/100\n",
            "194\/194 - 1s - loss: 2.2703e-08 - accuracy: 1.0000 - val_loss: 1.9109e-08 - val_accuracy: 1.0000\n",
            "Epoch 9\/100\n",
            "194\/194 - 1s - loss: 1.6358e-08 - accuracy: 1.0000 - val_loss: 1.4207e-08 - val_accuracy: 1.0000\n",
            "Epoch 10\/100\n",
            "194\/194 - 1s - loss: 1.2339e-08 - accuracy: 1.0000 - val_loss: 1.0885e-08 - val_accuracy: 1.0000\n",
            "Epoch 11\/100\n",
            "194\/194 - 1s - loss: 9.6806e-09 - accuracy: 1.0000 - val_loss: 8.6203e-09 - val_accuracy: 1.0000\n",
            "Epoch 12\/100\n",
            "194\/194 - 1s - loss: 7.7948e-09 - accuracy: 1.0000 - val_loss: 6.9935e-09 - val_accuracy: 1.0000\n",
            "Epoch 13\/100\n",
            "194\/194 - 1s - loss: 6.3741e-09 - accuracy: 1.0000 - val_loss: 5.7386e-09 - val_accuracy: 1.0000\n",
            "Epoch 14\/100\n",
            "194\/194 - 1s - loss: 5.2965e-09 - accuracy: 1.0000 - val_loss: 4.8037e-09 - val_accuracy: 1.0000\n",
            "Epoch 15\/100\n",
            "194\/194 - 1s - loss: 4.4560e-09 - accuracy: 1.0000 - val_loss: 4.0938e-09 - val_accuracy: 1.0000\n",
            "Epoch 16\/100\n",
            "194\/194 - 1s - loss: 3.8027e-09 - accuracy: 1.0000 - val_loss: 3.4717e-09 - val_accuracy: 1.0000\n",
            "Epoch 17\/100\n",
            "194\/194 - 1s - loss: 3.2677e-09 - accuracy: 1.0000 - val_loss: 2.9808e-09 - val_accuracy: 1.0000\n",
            "Epoch 18\/100\n",
            "194\/194 - 1s - loss: 2.8460e-09 - accuracy: 1.0000 - val_loss: 2.6229e-09 - val_accuracy: 1.0000\n",
            "Epoch 19\/100\n",
            "194\/194 - 1s - loss: 2.4931e-09 - accuracy: 1.0000 - val_loss: 2.3144e-09 - val_accuracy: 1.0000\n",
            "Epoch 20\/100\n",
            "194\/194 - 1s - loss: 2.1931e-09 - accuracy: 1.0000 - val_loss: 2.0328e-09 - val_accuracy: 1.0000\n",
            "Epoch 21\/100\n",
            "194\/194 - 1s - loss: 1.9405e-09 - accuracy: 1.0000 - val_loss: 1.8039e-09 - val_accuracy: 1.0000\n",
            "Epoch 22\/100\n",
            "194\/194 - 1s - loss: 1.7219e-09 - accuracy: 1.0000 - val_loss: 1.5993e-09 - val_accuracy: 1.0000\n",
            "Epoch 23\/100\n",
            "194\/194 - 1s - loss: 1.5374e-09 - accuracy: 1.0000 - val_loss: 1.4377e-09 - val_accuracy: 1.0000\n",
            "Epoch 24\/100\n",
            "194\/194 - 1s - loss: 1.3795e-09 - accuracy: 1.0000 - val_loss: 1.2882e-09 - val_accuracy: 1.0000\n",
            "Epoch 25\/100\n",
            "194\/194 - 1s - loss: 1.2468e-09 - accuracy: 1.0000 - val_loss: 1.1547e-09 - val_accuracy: 1.0000\n",
            "Epoch 26\/100\n",
            "194\/194 - 1s - loss: 1.1280e-09 - accuracy: 1.0000 - val_loss: 1.0456e-09 - val_accuracy: 1.0000\n",
            "Epoch 27\/100\n",
            "194\/194 - 1s - loss: 1.0297e-09 - accuracy: 1.0000 - val_loss: 9.5799e-10 - val_accuracy: 1.0000\n",
            "Epoch 28\/100\n",
            "194\/194 - 1s - loss: 9.3833e-10 - accuracy: 1.0000 - val_loss: 8.6520e-10 - val_accuracy: 1.0000\n",
            "Epoch 29\/100\n",
            "194\/194 - 1s - loss: 8.5878e-10 - accuracy: 1.0000 - val_loss: 7.9045e-10 - val_accuracy: 1.0000\n",
            "Epoch 30\/100\n",
            "194\/194 - 1s - loss: 7.8385e-10 - accuracy: 1.0000 - val_loss: 7.2062e-10 - val_accuracy: 1.0000\n",
            "Epoch 31\/100\n",
            "194\/194 - 1s - loss: 7.1704e-10 - accuracy: 1.0000 - val_loss: 6.5960e-10 - val_accuracy: 1.0000\n",
            "Epoch 32\/100\n",
            "194\/194 - 1s - loss: 6.6120e-10 - accuracy: 1.0000 - val_loss: 6.0933e-10 - val_accuracy: 1.0000\n",
            "Epoch 33\/100\n",
            "194\/194 - 1s - loss: 6.0504e-10 - accuracy: 1.0000 - val_loss: 5.5597e-10 - val_accuracy: 1.0000\n",
            "Epoch 34\/100\n",
            "194\/194 - 1s - loss: 5.5872e-10 - accuracy: 1.0000 - val_loss: 5.2014e-10 - val_accuracy: 1.0000\n",
            "Epoch 35\/100\n",
            "194\/194 - 1s - loss: 5.1457e-10 - accuracy: 1.0000 - val_loss: 4.7269e-10 - val_accuracy: 1.0000\n",
            "Epoch 36\/100\n",
            "194\/194 - 1s - loss: 4.7500e-10 - accuracy: 1.0000 - val_loss: 4.3468e-10 - val_accuracy: 1.0000\n",
            "Epoch 37\/100\n",
            "194\/194 - 1s - loss: 4.4074e-10 - accuracy: 1.0000 - val_loss: 4.0227e-10 - val_accuracy: 1.0000\n",
            "Epoch 38\/100\n",
            "194\/194 - 1s - loss: 4.0843e-10 - accuracy: 1.0000 - val_loss: 3.7349e-10 - val_accuracy: 1.0000\n",
            "Epoch 39\/100\n",
            "194\/194 - 1s - loss: 3.7839e-10 - accuracy: 1.0000 - val_loss: 3.4527e-10 - val_accuracy: 1.0000\n",
            "Epoch 40\/100\n",
            "194\/194 - 1s - loss: 3.5289e-10 - accuracy: 1.0000 - val_loss: 3.1960e-10 - val_accuracy: 1.0000\n",
            "Epoch 41\/100\n",
            "194\/194 - 1s - loss: 3.2653e-10 - accuracy: 1.0000 - val_loss: 2.9888e-10 - val_accuracy: 1.0000\n",
            "Epoch 42\/100\n",
            "194\/194 - 1s - loss: 3.0095e-10 - accuracy: 1.0000 - val_loss: 2.7658e-10 - val_accuracy: 1.0000\n",
            "Epoch 43\/100\n",
            "194\/194 - 1s - loss: 2.8046e-10 - accuracy: 1.0000 - val_loss: 2.5779e-10 - val_accuracy: 1.0000\n",
            "Epoch 44\/100\n",
            "194\/194 - 1s - loss: 2.6138e-10 - accuracy: 1.0000 - val_loss: 2.4041e-10 - val_accuracy: 1.0000\n",
            "Epoch 45\/100\n",
            "194\/194 - 1s - loss: 2.4311e-10 - accuracy: 1.0000 - val_loss: 2.2221e-10 - val_accuracy: 1.0000\n",
            "Epoch 46\/100\n",
            "194\/194 - 1s - loss: 2.2849e-10 - accuracy: 1.0000 - val_loss: 2.0854e-10 - val_accuracy: 1.0000\n",
            "Epoch 47\/100\n",
            "194\/194 - 1s - loss: 2.1371e-10 - accuracy: 1.0000 - val_loss: 1.9396e-10 - val_accuracy: 1.0000\n",
            "Epoch 48\/100\n",
            "194\/194 - 1s - loss: 2.0021e-10 - accuracy: 1.0000 - val_loss: 1.8137e-10 - val_accuracy: 1.0000\n",
            "Epoch 49\/100\n",
            "194\/194 - 1s - loss: 1.8739e-10 - accuracy: 1.0000 - val_loss: 1.6912e-10 - val_accuracy: 1.0000\n",
            "Epoch 50\/100\n",
            "194\/194 - 1s - loss: 1.7579e-10 - accuracy: 1.0000 - val_loss: 1.5766e-10 - val_accuracy: 1.0000\n",
            "Epoch 51\/100\n",
            "194\/194 - 1s - loss: 1.6580e-10 - accuracy: 1.0000 - val_loss: 1.4872e-10 - val_accuracy: 1.0000\n",
            "Epoch 52\/100\n",
            "194\/194 - 1s - loss: 1.5681e-10 - accuracy: 1.0000 - val_loss: 1.3943e-10 - val_accuracy: 1.0000\n",
            "Epoch 53\/100\n",
            "194\/194 - 1s - loss: 1.4501e-10 - accuracy: 1.0000 - val_loss: 1.3446e-10 - val_accuracy: 1.0000\n",
            "Epoch 54\/100\n",
            "194\/194 - 1s - loss: 1.3638e-10 - accuracy: 1.0000 - val_loss: 1.2286e-10 - val_accuracy: 1.0000\n",
            "Epoch 55\/100\n",
            "194\/194 - 1s - loss: 1.2887e-10 - accuracy: 1.0000 - val_loss: 1.1515e-10 - val_accuracy: 1.0000\n",
            "Epoch 56\/100\n",
            "194\/194 - 1s - loss: 1.2214e-10 - accuracy: 1.0000 - val_loss: 1.0885e-10 - val_accuracy: 1.0000\n",
            "Epoch 57\/100\n",
            "194\/194 - 1s - loss: 1.1454e-10 - accuracy: 1.0000 - val_loss: 1.0235e-10 - val_accuracy: 1.0000\n",
            "Epoch 58\/100\n",
            "194\/194 - 1s - loss: 1.0777e-10 - accuracy: 1.0000 - val_loss: 9.6609e-11 - val_accuracy: 1.0000\n",
            "Epoch 59\/100\n",
            "194\/194 - 1s - loss: 1.0162e-10 - accuracy: 1.0000 - val_loss: 9.0705e-11 - val_accuracy: 1.0000\n",
            "Epoch 60\/100\n",
            "194\/194 - 1s - loss: 9.5082e-11 - accuracy: 1.0000 - val_loss: 8.6063e-11 - val_accuracy: 1.0000\n",
            "Epoch 61\/100\n",
            "194\/194 - 1s - loss: 8.9894e-11 - accuracy: 1.0000 - val_loss: 8.1412e-11 - val_accuracy: 1.0000\n",
            "Epoch 62\/100\n",
            "194\/194 - 1s - loss: 8.4995e-11 - accuracy: 1.0000 - val_loss: 7.6950e-11 - val_accuracy: 1.0000\n",
            "Epoch 63\/100\n",
            "194\/194 - 1s - loss: 7.8183e-11 - accuracy: 1.0000 - val_loss: 7.1404e-11 - val_accuracy: 1.0000\n",
            "Epoch 64\/100\n",
            "194\/194 - 1s - loss: 7.5929e-11 - accuracy: 1.0000 - val_loss: 6.9673e-11 - val_accuracy: 1.0000\n",
            "Epoch 65\/100\n",
            "194\/194 - 1s - loss: 7.0206e-11 - accuracy: 1.0000 - val_loss: 6.3306e-11 - val_accuracy: 1.0000\n",
            "Epoch 66\/100\n",
            "194\/194 - 1s - loss: 6.7820e-11 - accuracy: 1.0000 - val_loss: 6.1771e-11 - val_accuracy: 1.0000\n",
            "Epoch 67\/100\n",
            "194\/194 - 1s - loss: 6.2128e-11 - accuracy: 1.0000 - val_loss: 5.6264e-11 - val_accuracy: 1.0000\n",
            "Epoch 68\/100\n",
            "194\/194 - 1s - loss: 6.0612e-11 - accuracy: 1.0000 - val_loss: 5.4842e-11 - val_accuracy: 1.0000\n",
            "Epoch 69\/100\n",
            "194\/194 - 1s - loss: 5.5622e-11 - accuracy: 1.0000 - val_loss: 5.0066e-11 - val_accuracy: 1.0000\n",
            "Epoch 70\/100\n",
            "194\/194 - 1s - loss: 5.3696e-11 - accuracy: 1.0000 - val_loss: 4.6769e-11 - val_accuracy: 1.0000\n",
            "Epoch 71\/100\n",
            "194\/194 - 1s - loss: 5.2684e-11 - accuracy: 1.0000 - val_loss: 4.6103e-11 - val_accuracy: 1.0000\n",
            "Epoch 72\/100\n",
            "194\/194 - 1s - loss: 4.7281e-11 - accuracy: 1.0000 - val_loss: 4.1895e-11 - val_accuracy: 1.0000\n",
            "Epoch 73\/100\n",
            "194\/194 - 1s - loss: 4.5936e-11 - accuracy: 1.0000 - val_loss: 3.9054e-11 - val_accuracy: 1.0000\n",
            "Epoch 74\/100\n",
            "194\/194 - 1s - loss: 4.5245e-11 - accuracy: 1.0000 - val_loss: 3.8332e-11 - val_accuracy: 1.0000\n",
            "Epoch 75\/100\n",
            "194\/194 - 1s - loss: 4.0780e-11 - accuracy: 1.0000 - val_loss: 3.5155e-11 - val_accuracy: 1.0000\n",
            "Epoch 76\/100\n",
            "194\/194 - 1s - loss: 3.9083e-11 - accuracy: 1.0000 - val_loss: 3.2762e-11 - val_accuracy: 1.0000\n",
            "Epoch 77\/100\n",
            "194\/194 - 1s - loss: 3.8208e-11 - accuracy: 1.0000 - val_loss: 3.0733e-11 - val_accuracy: 1.0000\n",
            "Epoch 78\/100\n",
            "194\/194 - 1s - loss: 3.8231e-11 - accuracy: 1.0000 - val_loss: 3.0380e-11 - val_accuracy: 1.0000\n",
            "Epoch 79\/100\n",
            "194\/194 - 1s - loss: 3.2681e-11 - accuracy: 1.0000 - val_loss: 2.7900e-11 - val_accuracy: 1.0000\n",
            "Epoch 80\/100\n",
            "194\/194 - 1s - loss: 3.1677e-11 - accuracy: 1.0000 - val_loss: 2.6008e-11 - val_accuracy: 1.0000\n",
            "Epoch 81\/100\n",
            "194\/194 - 1s - loss: 3.1846e-11 - accuracy: 1.0000 - val_loss: 2.5412e-11 - val_accuracy: 1.0000\n",
            "Epoch 82\/100\n",
            "194\/194 - 1s - loss: 2.7179e-11 - accuracy: 1.0000 - val_loss: 2.4064e-11 - val_accuracy: 1.0000\n",
            "Epoch 83\/100\n",
            "194\/194 - 1s - loss: 2.6506e-11 - accuracy: 1.0000 - val_loss: 2.2232e-11 - val_accuracy: 1.0000\n",
            "Epoch 84\/100\n",
            "194\/194 - 1s - loss: 2.5960e-11 - accuracy: 1.0000 - val_loss: 2.0757e-11 - val_accuracy: 1.0000\n",
            "Epoch 85\/100\n",
            "194\/194 - 1s - loss: 2.5682e-11 - accuracy: 1.0000 - val_loss: 1.9502e-11 - val_accuracy: 1.0000\n",
            "Epoch 86\/100\n",
            "194\/194 - 1s - loss: 2.5834e-11 - accuracy: 1.0000 - val_loss: 1.8393e-11 - val_accuracy: 1.0000\n",
            "Epoch 87\/100\n",
            "194\/194 - 1s - loss: 2.5881e-11 - accuracy: 1.0000 - val_loss: 1.8761e-11 - val_accuracy: 1.0000\n",
            "Epoch 88\/100\n",
            "194\/194 - 1s - loss: 2.0731e-11 - accuracy: 1.0000 - val_loss: 1.7122e-11 - val_accuracy: 1.0000\n",
            "Epoch 89\/100\n",
            "194\/194 - 1s - loss: 1.9890e-11 - accuracy: 1.0000 - val_loss: 1.5952e-11 - val_accuracy: 1.0000\n",
            "Epoch 90\/100\n",
            "194\/194 - 1s - loss: 2.0362e-11 - accuracy: 1.0000 - val_loss: 1.5001e-11 - val_accuracy: 1.0000\n",
            "Epoch 91\/100\n",
            "194\/194 - 1s - loss: 2.0522e-11 - accuracy: 1.0000 - val_loss: 1.4188e-11 - val_accuracy: 1.0000\n",
            "Epoch 92\/100\n",
            "194\/194 - 1s - loss: 2.0420e-11 - accuracy: 1.0000 - val_loss: 1.3415e-11 - val_accuracy: 1.0000\n",
            "Epoch 93\/100\n",
            "194\/194 - 1s - loss: 2.0529e-11 - accuracy: 1.0000 - val_loss: 1.2709e-11 - val_accuracy: 1.0000\n",
            "Epoch 94\/100\n",
            "194\/194 - 1s - loss: 1.9576e-11 - accuracy: 1.0000 - val_loss: 1.3388e-11 - val_accuracy: 1.0000\n",
            "Epoch 95\/100\n",
            "194\/194 - 1s - loss: 1.4730e-11 - accuracy: 1.0000 - val_loss: 1.2199e-11 - val_accuracy: 1.0000\n",
            "Epoch 96\/100\n",
            "194\/194 - 1s - loss: 1.4784e-11 - accuracy: 1.0000 - val_loss: 1.1404e-11 - val_accuracy: 1.0000\n",
            "Epoch 97\/100\n",
            "194\/194 - 1s - loss: 1.4475e-11 - accuracy: 1.0000 - val_loss: 1.0746e-11 - val_accuracy: 1.0000\n",
            "Epoch 98\/100\n",
            "194\/194 - 1s - loss: 1.5064e-11 - accuracy: 1.0000 - val_loss: 1.0157e-11 - val_accuracy: 1.0000\n",
            "Epoch 99\/100\n",
            "194\/194 - 1s - loss: 1.5464e-11 - accuracy: 1.0000 - val_loss: 9.6597e-12 - val_accuracy: 1.0000\n",
            "Epoch 100\/100\n",
            "194\/194 - 1s - loss: 1.5910e-11 - accuracy: 1.0000 - val_loss: 9.2253e-12 - val_accuracy: 1.0000\n"
          ],
          "output_type":"stream"
        },
        {
          "data":{
            "text\/plain":[
              "<tensorflow.python.keras.callbacks.History at 0x7f732dd68190>"
            ]
          },
          "metadata":{
            
          },
          "output_type":"display_data"
        }
      ],
      "metadata":{
        
      }
    },
    {
      "cell_type":"markdown",
      "source":[
        "# Lets predict our output with testing data."
      ],
      "attachments":{
        
      },
      "metadata":{
        
      }
    },
    {
      "cell_type":"code",
      "source":[
        "predict=model.predict(X_test)\n",
        "print(predict)\n",
        "y_test.shape\n",
        "predict.shape"
      ],
      "execution_count":29,
      "outputs":[
        {
          "name":"stdout",
          "text":[
            "[[4.6626610e-28]\n",
            " [3.0753057e-25]\n",
            " [3.4485209e-23]\n",
            " ...\n",
            " [3.7013004e-25]\n",
            " [6.5861833e-18]\n",
            " [9.2745913e-25]]\n"
          ],
          "output_type":"stream"
        },
        {
          "data":{
            "text\/plain":[
              "(3792, 1)"
            ]
          },
          "metadata":{
            
          },
          "output_type":"display_data"
        }
      ],
      "metadata":{
        
      }
    },
    {
      "cell_type":"code",
      "source":[
        "accuracy = model.evaluate(X_test, y_test)\n",
        "print(accuracy[1]*100)"
      ],
      "execution_count":30,
      "outputs":[
        {
          "name":"stdout",
          "text":[
            "\r  1\/119 [..............................] - ETA: 1s - loss: 1.1599e-11 - accuracy: 1.0000\b\b\b\b\b\b\b\b\b\b\b\b\b\b\b\b\b\b\b\b\b\b\b\b\b\b\b\b\b\b\b\b\b\b\b\b\b\b\b\b\b\b\b\b\b\b\b\b\b\b\b\b\b\b\b\b\b\b\b\b\b\b\b\b\b\b\b\b\b\b\b\b\b\b\b\b\b\b\b\b\b\b\b\b\b\b\b\b\r 41\/119 [=========>....................] - ETA: 0s - loss: 7.7220e-12 - accuracy: 1.0000\b\b\b\b\b\b\b\b\b\b\b\b\b\b\b\b\b\b\b\b\b\b\b\b\b\b\b\b\b\b\b\b\b\b\b\b\b\b\b\b\b\b\b\b\b\b\b\b\b\b\b\b\b\b\b\b\b\b\b\b\b\b\b\b\b\b\b\b\b\b\b\b\b\b\b\b\b\b\b\b\b\b\b\b\b\b\b\b\r 83\/119 [===================>..........] - ETA: 0s - loss: 9.0601e-12 - accuracy: 1.0000\b\b\b\b\b\b\b\b\b\b\b\b\b\b\b\b\b\b\b\b\b\b\b\b\b\b\b\b\b\b\b\b\b\b\b\b\b\b\b\b\b\b\b\b\b\b\b\b\b\b\b\b\b\b\b\b\b\b\b\b\b\b\b\b\b\b\b\b\b\b\b\b\b\b\b\b\b\b\b\b\b\b\b\b\b\b\b\b\r119\/119 [==============================] - 0s 1ms\/step - loss: 1.3771e-11 - accuracy: 1.0000\n",
            "100.0\n"
          ],
          "output_type":"stream"
        }
      ],
      "metadata":{
        
      }
    },
    {
      "cell_type":"markdown",
      "source":[
        "# We got 100% accuracy!!!!!"
      ],
      "attachments":{
        
      },
      "metadata":{
        
      }
    },
    {
      "cell_type":"code",
      "source":[
        "import numpy as np\n",
        "predict=predict.reshape(-1)\n",
        "predict.shape"
      ],
      "execution_count":31,
      "outputs":[
        {
          "data":{
            "text\/plain":[
              "(3792,)"
            ]
          },
          "metadata":{
            
          },
          "output_type":"display_data"
        }
      ],
      "metadata":{
        
      }
    },
    {
      "cell_type":"code",
      "source":[
        "X_test[:,0].shape"
      ],
      "execution_count":32,
      "outputs":[
        {
          "data":{
            "text\/plain":[
              "(3792,)"
            ]
          },
          "metadata":{
            
          },
          "output_type":"display_data"
        }
      ],
      "metadata":{
        
      }
    },
    {
      "cell_type":"code",
      "source":[
        "predict.shape"
      ],
      "execution_count":33,
      "outputs":[
        {
          "data":{
            "text\/plain":[
              "(3792,)"
            ]
          },
          "metadata":{
            
          },
          "output_type":"display_data"
        }
      ],
      "metadata":{
        
      }
    },
    {
      "cell_type":"code",
      "source":[
        "import matplotlib.pyplot as plt"
      ],
      "execution_count":34,
      "outputs":[
        
      ],
      "metadata":{
        
      }
    },
    {
      "cell_type":"code",
      "source":[
        "\n",
        "plt.scatter(predict,X_test[:,0], color = \"red\")\n",
        "plt.title(\"elbow vs shoulder (Predicted data)\")\n",
        "plt.xlabel(\"Elbow fake or real\")\n",
        "plt.ylabel(\"Shoulder\")\n",
        "plt.show()"
      ],
      "execution_count":38,
      "outputs":[
        {
          "data":{
            "image\/png":"[encoded data removed]"
          },
          "metadata":{
            "image\/png":{
              
            }
          },
          "output_type":"display_data"
        }
      ],
      "metadata":{
        
      }
    },
    {
      "cell_type":"code",
      "source":[
        "plt.scatter(y_test,X_test[:,0], color = \"red\")\n",
        "plt.title(\"elbow vs shoulder (Testing data)\")\n",
        "plt.xlabel(\"Elbow fake or real\")\n",
        "plt.ylabel(\"Shoulder\")\n",
        "plt.show()"
      ],
      "execution_count":39,
      "outputs":[
        {
          "data":{
            "image\/png":"[encoded data removed]"
          },
          "metadata":{
            "image\/png":{
              
            }
          },
          "output_type":"display_data"
        }
      ],
      "metadata":{
        
      }
    }
  ],
  "metadata":{
    
  },
  "nbformat":4,
  "nbformat_minor":0
}