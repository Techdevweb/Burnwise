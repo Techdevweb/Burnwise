{
  "cells":[
    {
      "cell_type":"markdown",
      "source":[
        "# Code for preprocessing the data for training a Regeressor"
      ],
      "attachments":{
        
      },
      "metadata":{
        
      }
    },
    {
      "cell_type":"markdown",
      "source":[
        "###### Note : following code is an example for preprocessing the data for a regressor\n",
        "###### this code is based on left shoulder, elbow and wrist coordinates"
      ],
      "attachments":{
        
      },
      "metadata":{
        
      }
    },
    {
      "cell_type":"markdown",
      "source":[
        "### Importing Necessary Libraries"
      ],
      "attachments":{
        
      },
      "metadata":{
        
      }
    },
    {
      "cell_type":"code",
      "source":[
        "import numpy as np\n",
        "import pandas as pd\n",
        "import matplotlib.pyplot as plt"
      ],
      "execution_count":1,
      "outputs":[
        
      ],
      "metadata":{
        
      }
    },
    {
      "cell_type":"markdown",
      "source":[
        "### Reading Data"
      ],
      "attachments":{
        
      },
      "metadata":{
        
      }
    },
    {
      "cell_type":"code",
      "source":[
        "df = pd.read_csv('data.csv')\n",
        "df.head()"
      ],
      "execution_count":2,
      "outputs":[
        {
          "data":{
            "text\/html":[
              "<div>\n",
              "<style scoped>\n",
              "    .dataframe tbody tr th:only-of-type {\n",
              "        vertical-align: middle;\n",
              "    }\n",
              "\n",
              "    .dataframe tbody tr th {\n",
              "        vertical-align: top;\n",
              "    }\n",
              "\n",
              "    .dataframe thead th {\n",
              "        text-align: right;\n",
              "    }\n",
              "<\/style>\n",
              "<table border=\"1\" class=\"dataframe\">\n",
              "  <thead>\n",
              "    <tr style=\"text-align: right;\">\n",
              "      <th><\/th>\n",
              "      <th>0_x<\/th>\n",
              "      <th>0_y<\/th>\n",
              "      <th>0_z<\/th>\n",
              "      <th>0_vis<\/th>\n",
              "      <th>1_x<\/th>\n",
              "      <th>1_y<\/th>\n",
              "      <th>1_z<\/th>\n",
              "      <th>1_vis<\/th>\n",
              "      <th>2_x<\/th>\n",
              "      <th>2_y<\/th>\n",
              "      <th>...<\/th>\n",
              "      <th>30_z<\/th>\n",
              "      <th>30_vis<\/th>\n",
              "      <th>31_x<\/th>\n",
              "      <th>31_y<\/th>\n",
              "      <th>31_z<\/th>\n",
              "      <th>31_vis<\/th>\n",
              "      <th>32_x<\/th>\n",
              "      <th>32_y<\/th>\n",
              "      <th>32_z<\/th>\n",
              "      <th>32_vis<\/th>\n",
              "    <\/tr>\n",
              "  <\/thead>\n",
              "  <tbody>\n",
              "    <tr>\n",
              "      <th>0<\/th>\n",
              "      <td>-0.513346<\/td>\n",
              "      <td>-0.486864<\/td>\n",
              "      <td>0.978329<\/td>\n",
              "      <td>1.0<\/td>\n",
              "      <td>-0.537284<\/td>\n",
              "      <td>-0.468331<\/td>\n",
              "      <td>0.907438<\/td>\n",
              "      <td>1.0<\/td>\n",
              "      <td>-0.551415<\/td>\n",
              "      <td>-0.468160<\/td>\n",
              "      <td>...<\/td>\n",
              "      <td>-0.712293<\/td>\n",
              "      <td>0.004528<\/td>\n",
              "      <td>-0.563900<\/td>\n",
              "      <td>-1.402235<\/td>\n",
              "      <td>-0.169188<\/td>\n",
              "      <td>0.001297<\/td>\n",
              "      <td>-0.414179<\/td>\n",
              "      <td>-1.400190<\/td>\n",
              "      <td>-0.236010<\/td>\n",
              "      <td>0.001425<\/td>\n",
              "    <\/tr>\n",
              "    <tr>\n",
              "      <th>1<\/th>\n",
              "      <td>-0.516051<\/td>\n",
              "      <td>-0.487786<\/td>\n",
              "      <td>0.801669<\/td>\n",
              "      <td>1.0<\/td>\n",
              "      <td>-0.540958<\/td>\n",
              "      <td>-0.469537<\/td>\n",
              "      <td>0.745705<\/td>\n",
              "      <td>1.0<\/td>\n",
              "      <td>-0.554932<\/td>\n",
              "      <td>-0.469614<\/td>\n",
              "      <td>...<\/td>\n",
              "      <td>-0.586721<\/td>\n",
              "      <td>0.003706<\/td>\n",
              "      <td>-0.546744<\/td>\n",
              "      <td>-1.396654<\/td>\n",
              "      <td>-0.105789<\/td>\n",
              "      <td>0.000889<\/td>\n",
              "      <td>-0.416563<\/td>\n",
              "      <td>-1.392031<\/td>\n",
              "      <td>-0.177770<\/td>\n",
              "      <td>0.000804<\/td>\n",
              "    <\/tr>\n",
              "    <tr>\n",
              "      <th>2<\/th>\n",
              "      <td>-0.517325<\/td>\n",
              "      <td>-0.486723<\/td>\n",
              "      <td>0.786777<\/td>\n",
              "      <td>1.0<\/td>\n",
              "      <td>-0.542302<\/td>\n",
              "      <td>-0.468774<\/td>\n",
              "      <td>0.730178<\/td>\n",
              "      <td>1.0<\/td>\n",
              "      <td>-0.556188<\/td>\n",
              "      <td>-0.468928<\/td>\n",
              "      <td>...<\/td>\n",
              "      <td>-0.572160<\/td>\n",
              "      <td>0.004798<\/td>\n",
              "      <td>-0.549911<\/td>\n",
              "      <td>-1.392735<\/td>\n",
              "      <td>-0.099640<\/td>\n",
              "      <td>0.001099<\/td>\n",
              "      <td>-0.424577<\/td>\n",
              "      <td>-1.388623<\/td>\n",
              "      <td>-0.168463<\/td>\n",
              "      <td>0.000999<\/td>\n",
              "    <\/tr>\n",
              "    <tr>\n",
              "      <th>3<\/th>\n",
              "      <td>-0.517781<\/td>\n",
              "      <td>-0.486719<\/td>\n",
              "      <td>0.770728<\/td>\n",
              "      <td>1.0<\/td>\n",
              "      <td>-0.542295<\/td>\n",
              "      <td>-0.468731<\/td>\n",
              "      <td>0.714361<\/td>\n",
              "      <td>1.0<\/td>\n",
              "      <td>-0.556079<\/td>\n",
              "      <td>-0.468834<\/td>\n",
              "      <td>...<\/td>\n",
              "      <td>-0.563850<\/td>\n",
              "      <td>0.004306<\/td>\n",
              "      <td>-0.552028<\/td>\n",
              "      <td>-1.392125<\/td>\n",
              "      <td>-0.066083<\/td>\n",
              "      <td>0.000939<\/td>\n",
              "      <td>-0.423960<\/td>\n",
              "      <td>-1.386563<\/td>\n",
              "      <td>-0.159205<\/td>\n",
              "      <td>0.000809<\/td>\n",
              "    <\/tr>\n",
              "    <tr>\n",
              "      <th>4<\/th>\n",
              "      <td>-0.519239<\/td>\n",
              "      <td>-0.487284<\/td>\n",
              "      <td>0.833225<\/td>\n",
              "      <td>1.0<\/td>\n",
              "      <td>-0.543011<\/td>\n",
              "      <td>-0.469002<\/td>\n",
              "      <td>0.772886<\/td>\n",
              "      <td>1.0<\/td>\n",
              "      <td>-0.556789<\/td>\n",
              "      <td>-0.469014<\/td>\n",
              "      <td>...<\/td>\n",
              "      <td>-0.574910<\/td>\n",
              "      <td>0.003707<\/td>\n",
              "      <td>-0.566962<\/td>\n",
              "      <td>-1.390860<\/td>\n",
              "      <td>-0.077285<\/td>\n",
              "      <td>0.000848<\/td>\n",
              "      <td>-0.432768<\/td>\n",
              "      <td>-1.386580<\/td>\n",
              "      <td>-0.154454<\/td>\n",
              "      <td>0.000748<\/td>\n",
              "    <\/tr>\n",
              "  <\/tbody>\n",
              "<\/table>\n",
              "<p>5 rows × 132 columns<\/p>\n",
              "<\/div>"
            ]
          },
          "metadata":{
            
          },
          "output_type":"display_data"
        }
      ],
      "metadata":{
        
      }
    },
    {
      "cell_type":"code",
      "source":[
        "#collecting metadata\n",
        "data = df[['11_x', '11_y', '13_x', '13_y', '15_x', '15_y']]"
      ],
      "execution_count":3,
      "outputs":[
        
      ],
      "metadata":{
        
      }
    },
    {
      "cell_type":"code",
      "source":[
        "#renaming columns\n",
        "data.columns = ['left_shoulder_X', 'left_shoulder_Y',\n",
        "                'left_elbow_X', 'left_elbow_Y',\n",
        "                'left_wrist_X', 'left_wrist_Y']"
      ],
      "execution_count":4,
      "outputs":[
        
      ],
      "metadata":{
        
      }
    },
    {
      "cell_type":"code",
      "source":[
        "#useful metadata\n",
        "data.head()"
      ],
      "execution_count":5,
      "outputs":[
        {
          "data":{
            "text\/html":[
              "<div>\n",
              "<style scoped>\n",
              "    .dataframe tbody tr th:only-of-type {\n",
              "        vertical-align: middle;\n",
              "    }\n",
              "\n",
              "    .dataframe tbody tr th {\n",
              "        vertical-align: top;\n",
              "    }\n",
              "\n",
              "    .dataframe thead th {\n",
              "        text-align: right;\n",
              "    }\n",
              "<\/style>\n",
              "<table border=\"1\" class=\"dataframe\">\n",
              "  <thead>\n",
              "    <tr style=\"text-align: right;\">\n",
              "      <th><\/th>\n",
              "      <th>left_shoulder_X<\/th>\n",
              "      <th>left_shoulder_Y<\/th>\n",
              "      <th>left_elbow_X<\/th>\n",
              "      <th>left_elbow_Y<\/th>\n",
              "      <th>left_wrist_X<\/th>\n",
              "      <th>left_wrist_Y<\/th>\n",
              "    <\/tr>\n",
              "  <\/thead>\n",
              "  <tbody>\n",
              "    <tr>\n",
              "      <th>0<\/th>\n",
              "      <td>-0.701167<\/td>\n",
              "      <td>-0.579701<\/td>\n",
              "      <td>-0.946057<\/td>\n",
              "      <td>-0.599737<\/td>\n",
              "      <td>-0.853154<\/td>\n",
              "      <td>-0.475083<\/td>\n",
              "    <\/tr>\n",
              "    <tr>\n",
              "      <th>1<\/th>\n",
              "      <td>-0.703238<\/td>\n",
              "      <td>-0.579433<\/td>\n",
              "      <td>-0.941791<\/td>\n",
              "      <td>-0.608207<\/td>\n",
              "      <td>-0.852376<\/td>\n",
              "      <td>-0.479572<\/td>\n",
              "    <\/tr>\n",
              "    <tr>\n",
              "      <th>2<\/th>\n",
              "      <td>-0.700262<\/td>\n",
              "      <td>-0.579484<\/td>\n",
              "      <td>-0.940807<\/td>\n",
              "      <td>-0.608857<\/td>\n",
              "      <td>-0.851227<\/td>\n",
              "      <td>-0.480896<\/td>\n",
              "    <\/tr>\n",
              "    <tr>\n",
              "      <th>3<\/th>\n",
              "      <td>-0.699332<\/td>\n",
              "      <td>-0.578418<\/td>\n",
              "      <td>-0.936533<\/td>\n",
              "      <td>-0.613209<\/td>\n",
              "      <td>-0.850773<\/td>\n",
              "      <td>-0.483470<\/td>\n",
              "    <\/tr>\n",
              "    <tr>\n",
              "      <th>4<\/th>\n",
              "      <td>-0.701886<\/td>\n",
              "      <td>-0.577890<\/td>\n",
              "      <td>-0.936760<\/td>\n",
              "      <td>-0.610650<\/td>\n",
              "      <td>-0.852075<\/td>\n",
              "      <td>-0.482287<\/td>\n",
              "    <\/tr>\n",
              "  <\/tbody>\n",
              "<\/table>\n",
              "<\/div>"
            ]
          },
          "metadata":{
            
          },
          "output_type":"display_data"
        }
      ],
      "metadata":{
        
      }
    },
    {
      "cell_type":"markdown",
      "source":[
        "### Preprocess"
      ],
      "attachments":{
        
      },
      "metadata":{
        
      }
    },
    {
      "cell_type":"code",
      "source":[
        "#getting the values\n",
        "x1 = data['left_shoulder_X']\n",
        "y1 = data['left_shoulder_Y']\n",
        "x2 = data['left_elbow_X']\n",
        "y2 = data['left_elbow_Y']\n",
        "x3 = data['left_wrist_X']\n",
        "y3 = data['left_wrist_Y']"
      ],
      "execution_count":6,
      "outputs":[
        
      ],
      "metadata":{
        
      }
    },
    {
      "cell_type":"code",
      "source":[
        "#displaying raw metadata\n",
        "fig = plt.figure()\n",
        "ax1 = fig.add_subplot(111)\n",
        "ax1.scatter(x1, y1, s = 10, c = 'blue', label = 'shoulder')\n",
        "ax1.scatter(x2, y2, s = 10, c = 'green', label = 'elbow')\n",
        "ax1.scatter(x3, y3, s = 10, c = 'red', label = 'wrist')\n",
        "plt.legend(loc='upper right');\n",
        "plt.show()"
      ],
      "execution_count":7,
      "outputs":[
        {
          "data":{
            "image\/png":"[encoded data removed]"
          },
          "metadata":{
            "image\/png":{
              
            }
          },
          "output_type":"display_data"
        }
      ],
      "metadata":{
        
      }
    },
    {
      "cell_type":"markdown",
      "source":[
        "#### Encryption-Decryption Algorithm"
      ],
      "attachments":{
        
      },
      "metadata":{
        
      }
    },
    {
      "cell_type":"code",
      "source":[
        "#some important functions\n",
        "\n",
        "\n",
        "#slope formula\n",
        "def slope(x1, y1, x2, y2):\n",
        "    return (y2 - y1) \/ (x2 - x1)\n",
        "\n",
        "#ditance formula\n",
        "def distance(x1, y1, x2, y2):\n",
        "    return ((y2-y1)**2 + (x2-x1)**2)**0.5\n",
        "\n",
        "#rounding off the values for elbow coordinates into an arc\n",
        "def roundoff_elbow(x1, y1, x2, y2):\n",
        "    s = slope(x1, y1, x2, y2)\n",
        "    d = 1\n",
        "    x = d * (1 \/ (1+s**2))**0.5\n",
        "    y = s*x\n",
        "    return -round(x, 3), -round(y, 3)\n",
        "\n",
        "#rounding off the values for wrist coordinates\n",
        "def roundoff_wrist(x1, y1, x2, y2, x3, y3):\n",
        "    s = slope(x1, y1, x2, y2)\n",
        "    d = 1\n",
        "    x = (d * (1 \/ (1+s**2))**0.5) + x3\n",
        "    y = s*(x-x3) + y3\n",
        "    return x, y\n",
        "\n",
        "#decrypting the predicted values into real values\n",
        "def retrivew_wrist(x1, y1, x2, y2, x3, y3, x4, y4):\n",
        "    s = slope(x1, y1, x2, y2)\n",
        "    d = distance(x3, y3, x4, y4)\n",
        "    x = (d * (1 \/ (1+s**2))**0.5) + x3\n",
        "    y = s*(x-x3) + y3\n",
        "    return x, y"
      ],
      "execution_count":8,
      "outputs":[
        
      ],
      "metadata":{
        
      }
    },
    {
      "cell_type":"code",
      "source":[
        "#rounding-off data\n",
        "a, b = roundoff_elbow(x1, y1, x2, y2)\n",
        "c, d = roundoff_wrist(x2, y2, x3, y3, a, b)"
      ],
      "execution_count":9,
      "outputs":[
        
      ],
      "metadata":{
        
      }
    },
    {
      "cell_type":"code",
      "source":[
        "#displaying rounded data\n",
        "fig = plt.figure()\n",
        "ax1 = fig.add_subplot(111)\n",
        "ax1.scatter(0, 0, s = 100, c = 'blue', label = 'shoulder')\n",
        "ax1.scatter(a, b, s = 10, c = 'green', label = 'elbow')\n",
        "ax1.scatter(c, d, s = 10, c = 'red', label = 'wrist')\n",
        "plt.legend(loc='upper right');\n",
        "plt.show()"
      ],
      "execution_count":10,
      "outputs":[
        {
          "data":{
            "image\/png":"[encoded data removed]"
          },
          "metadata":{
            "image\/png":{
              
            }
          },
          "output_type":"display_data"
        }
      ],
      "metadata":{
        
      }
    },
    {
      "cell_type":"markdown",
      "source":[
        "#### Converting to a DataFrame"
      ],
      "attachments":{
        
      },
      "metadata":{
        
      }
    },
    {
      "cell_type":"code",
      "source":[
        "wrist_dataset = pd.DataFrame({'elbow_X': a,'elbow_Y': b, 'wrist_X': c, 'wrist_Y':d})\n",
        "wrist_dataset.head()"
      ],
      "execution_count":11,
      "outputs":[
        {
          "data":{
            "text\/html":[
              "<div>\n",
              "<style scoped>\n",
              "    .dataframe tbody tr th:only-of-type {\n",
              "        vertical-align: middle;\n",
              "    }\n",
              "\n",
              "    .dataframe tbody tr th {\n",
              "        vertical-align: top;\n",
              "    }\n",
              "\n",
              "    .dataframe thead th {\n",
              "        text-align: right;\n",
              "    }\n",
              "<\/style>\n",
              "<table border=\"1\" class=\"dataframe\">\n",
              "  <thead>\n",
              "    <tr style=\"text-align: right;\">\n",
              "      <th><\/th>\n",
              "      <th>elbow_X<\/th>\n",
              "      <th>elbow_Y<\/th>\n",
              "      <th>wrist_X<\/th>\n",
              "      <th>wrist_Y<\/th>\n",
              "    <\/tr>\n",
              "  <\/thead>\n",
              "  <tbody>\n",
              "    <tr>\n",
              "      <th>0<\/th>\n",
              "      <td>-0.997<\/td>\n",
              "      <td>-0.082<\/td>\n",
              "      <td>-0.399421<\/td>\n",
              "      <td>0.719810<\/td>\n",
              "    <\/tr>\n",
              "    <tr>\n",
              "      <th>1<\/th>\n",
              "      <td>-0.993<\/td>\n",
              "      <td>-0.120<\/td>\n",
              "      <td>-0.422238<\/td>\n",
              "      <td>0.701115<\/td>\n",
              "    <\/tr>\n",
              "    <tr>\n",
              "      <th>2<\/th>\n",
              "      <td>-0.993<\/td>\n",
              "      <td>-0.121<\/td>\n",
              "      <td>-0.419506<\/td>\n",
              "      <td>0.698209<\/td>\n",
              "    <\/tr>\n",
              "    <tr>\n",
              "      <th>3<\/th>\n",
              "      <td>-0.989<\/td>\n",
              "      <td>-0.145<\/td>\n",
              "      <td>-0.437571<\/td>\n",
              "      <td>0.689222<\/td>\n",
              "    <\/tr>\n",
              "    <tr>\n",
              "      <th>4<\/th>\n",
              "      <td>-0.990<\/td>\n",
              "      <td>-0.138<\/td>\n",
              "      <td>-0.439313<\/td>\n",
              "      <td>0.696712<\/td>\n",
              "    <\/tr>\n",
              "  <\/tbody>\n",
              "<\/table>\n",
              "<\/div>"
            ]
          },
          "metadata":{
            
          },
          "output_type":"display_data"
        }
      ],
      "metadata":{
        
      }
    },
    {
      "cell_type":"markdown",
      "source":[
        "### Reference for Training a Regressor"
      ],
      "attachments":{
        
      },
      "metadata":{
        
      }
    },
    {
      "cell_type":"code",
      "source":[
        "x = wrist_dataset.iloc[:, :2]\n",
        "y = wrist_dataset.iloc[:, 2:]"
      ],
      "execution_count":12,
      "outputs":[
        
      ],
      "metadata":{
        
      }
    },
    {
      "cell_type":"code",
      "source":[
        "from tensorflow import keras\n",
        "from tensorflow.keras import layers\n",
        "from keras_tuner.tuners import RandomSearch"
      ],
      "execution_count":14,
      "outputs":[
        
      ],
      "metadata":{
        
      }
    },
    {
      "cell_type":"code",
      "source":[
        "def reg_model(hp):\n",
        "    model=keras.Sequential()\n",
        "    for i in range(hp.Int('num_layers',2,20)):\n",
        "        model.add(layers.Dense(units=hp.Int('units'+str(i),\n",
        "                                            min_value=32,\n",
        "                                            max_value=512,\n",
        "                                            step=32),\n",
        "                               activation='relu'))\n",
        "    model.add(layers.Dense(2,activation='linear'))\n",
        "    model.compile(\n",
        "                  optimizer=keras.optimizers.Adam(\n",
        "                                                  hp.Choice('learning_rate',[1e-2,1e-3,1e-4])\n",
        "                  ),\n",
        "                  loss='mean_absolute_error',\n",
        "                  metrics=['mean_absolute_error']\n",
        "    )\n",
        "    return model"
      ],
      "execution_count":30,
      "outputs":[
        
      ],
      "metadata":{
        
      }
    },
    {
      "cell_type":"code",
      "source":[
        "tuner=RandomSearch(\n",
        "                   reg_model,\n",
        "                   objective='val_mean_absolute_error',\n",
        "                   max_trials=5,\n",
        "                   executions_per_trial=3,\n",
        "                   directory='project',\n",
        "                   project_name='Pose estimation'\n",
        ")"
      ],
      "execution_count":31,
      "outputs":[
        {
          "name":"stdout",
          "text":[
            "INFO:tensorflow:Reloading Oracle from existing project project\/Pose estimation\/oracle.json\n",
            "INFO:tensorflow:Reloading Tuner from project\/Pose estimation\/tuner0.json\n"
          ],
          "output_type":"stream"
        }
      ],
      "metadata":{
        
      }
    },
    {
      "cell_type":"code",
      "source":[
        "tuner.search_space_summary()"
      ],
      "execution_count":32,
      "outputs":[
        {
          "name":"stdout",
          "text":[
            "Search space summary\n",
            "Default search space size: 20\n",
            "num_layers (Int)\n",
            "{'default': None, 'conditions': [], 'min_value': 2, 'max_value': 20, 'step': 1, 'sampling': None}\n",
            "units0 (Int)\n",
            "{'default': None, 'conditions': [], 'min_value': 32, 'max_value': 512, 'step': 32, 'sampling': None}\n",
            "units1 (Int)\n",
            "{'default': None, 'conditions': [], 'min_value': 32, 'max_value': 512, 'step': 32, 'sampling': None}\n",
            "learning_rate (Choice)\n",
            "{'default': 0.01, 'conditions': [], 'values': [0.01, 0.001, 0.0001], 'ordered': True}\n",
            "units2 (Int)\n",
            "{'default': None, 'conditions': [], 'min_value': 32, 'max_value': 512, 'step': 32, 'sampling': None}\n",
            "units3 (Int)\n",
            "{'default': None, 'conditions': [], 'min_value': 32, 'max_value': 512, 'step': 32, 'sampling': None}\n",
            "units4 (Int)\n",
            "{'default': None, 'conditions': [], 'min_value': 32, 'max_value': 512, 'step': 32, 'sampling': None}\n",
            "units5 (Int)\n",
            "{'default': None, 'conditions': [], 'min_value': 32, 'max_value': 512, 'step': 32, 'sampling': None}\n",
            "units6 (Int)\n",
            "{'default': None, 'conditions': [], 'min_value': 32, 'max_value': 512, 'step': 32, 'sampling': None}\n",
            "units7 (Int)\n",
            "{'default': None, 'conditions': [], 'min_value': 32, 'max_value': 512, 'step': 32, 'sampling': None}\n",
            "units8 (Int)\n",
            "{'default': None, 'conditions': [], 'min_value': 32, 'max_value': 512, 'step': 32, 'sampling': None}\n",
            "units9 (Int)\n",
            "{'default': None, 'conditions': [], 'min_value': 32, 'max_value': 512, 'step': 32, 'sampling': None}\n",
            "units10 (Int)\n",
            "{'default': None, 'conditions': [], 'min_value': 32, 'max_value': 512, 'step': 32, 'sampling': None}\n",
            "units11 (Int)\n",
            "{'default': None, 'conditions': [], 'min_value': 32, 'max_value': 512, 'step': 32, 'sampling': None}\n",
            "units12 (Int)\n",
            "{'default': None, 'conditions': [], 'min_value': 32, 'max_value': 512, 'step': 32, 'sampling': None}\n",
            "units13 (Int)\n",
            "{'default': None, 'conditions': [], 'min_value': 32, 'max_value': 512, 'step': 32, 'sampling': None}\n",
            "units14 (Int)\n",
            "{'default': None, 'conditions': [], 'min_value': 32, 'max_value': 512, 'step': 32, 'sampling': None}\n",
            "units15 (Int)\n",
            "{'default': None, 'conditions': [], 'min_value': 32, 'max_value': 512, 'step': 32, 'sampling': None}\n",
            "units16 (Int)\n",
            "{'default': None, 'conditions': [], 'min_value': 32, 'max_value': 512, 'step': 32, 'sampling': None}\n",
            "units17 (Int)\n",
            "{'default': None, 'conditions': [], 'min_value': 32, 'max_value': 512, 'step': 32, 'sampling': None}\n"
          ],
          "output_type":"stream"
        }
      ],
      "metadata":{
        
      }
    },
    {
      "cell_type":"code",
      "source":[
        "from sklearn.model_selection import train_test_split\n",
        "X_train,X_test,y_train,y_test=train_test_split(x,y,test_size=0.3,random_state=0)"
      ],
      "execution_count":24,
      "outputs":[
        
      ],
      "metadata":{
        
      }
    },
    {
      "cell_type":"code",
      "source":[
        "tuner.search(X_train,y_train,epochs=5,validation_data=(X_test,y_test))"
      ],
      "execution_count":25,
      "outputs":[
        {
          "name":"stdout",
          "text":[
            "INFO:tensorflow:Oracle triggered exit\n"
          ],
          "output_type":"stream"
        }
      ],
      "metadata":{
        
      }
    },
    {
      "cell_type":"code",
      "source":[
        "tuner.results_summary()"
      ],
      "execution_count":26,
      "outputs":[
        {
          "name":"stdout",
          "text":[
            "Results summary\n",
            "Results in project\/Pose estimation\n",
            "Showing 10 best trials\n",
            "Objective(name='val_mean_absolute_error', direction='min')\n",
            "Trial summary\n",
            "Hyperparameters:\n",
            "num_layers: 3\n",
            "units0: 480\n",
            "units1: 192\n",
            "learning_rate: 0.001\n",
            "units2: 448\n",
            "units3: 384\n",
            "units4: 448\n",
            "units5: 352\n",
            "units6: 480\n",
            "units7: 32\n",
            "units8: 384\n",
            "units9: 224\n",
            "units10: 256\n",
            "units11: 288\n",
            "units12: 192\n",
            "units13: 352\n",
            "units14: 320\n",
            "units15: 160\n",
            "units16: 256\n",
            "units17: 64\n",
            "Score: 0.11714543650547664\n",
            "Trial summary\n",
            "Hyperparameters:\n",
            "num_layers: 18\n",
            "units0: 160\n",
            "units1: 224\n",
            "learning_rate: 0.001\n",
            "units2: 96\n",
            "units3: 352\n",
            "units4: 320\n",
            "units5: 128\n",
            "units6: 128\n",
            "units7: 288\n",
            "units8: 480\n",
            "units9: 288\n",
            "units10: 384\n",
            "units11: 416\n",
            "units12: 512\n",
            "units13: 192\n",
            "units14: 352\n",
            "units15: 32\n",
            "units16: 32\n",
            "units17: 32\n",
            "Score: 0.14841475089391074\n",
            "Trial summary\n",
            "Hyperparameters:\n",
            "num_layers: 12\n",
            "units0: 320\n",
            "units1: 160\n",
            "learning_rate: 0.001\n",
            "units2: 416\n",
            "units3: 512\n",
            "units4: 32\n",
            "units5: 320\n",
            "units6: 32\n",
            "units7: 320\n",
            "units8: 512\n",
            "units9: 512\n",
            "units10: 352\n",
            "units11: 192\n",
            "units12: 96\n",
            "units13: 416\n",
            "units14: 352\n",
            "units15: 224\n",
            "units16: 160\n",
            "units17: 416\n",
            "Score: 0.16134303559859595\n",
            "Trial summary\n",
            "Hyperparameters:\n",
            "num_layers: 8\n",
            "units0: 480\n",
            "units1: 160\n",
            "learning_rate: 0.01\n",
            "units2: 384\n",
            "units3: 448\n",
            "units4: 96\n",
            "units5: 288\n",
            "units6: 384\n",
            "units7: 416\n",
            "units8: 128\n",
            "units9: 480\n",
            "units10: 480\n",
            "units11: 128\n",
            "units12: 192\n",
            "units13: 96\n",
            "units14: 256\n",
            "units15: 128\n",
            "units16: 96\n",
            "units17: 320\n",
            "Score: 0.2608057161172231\n",
            "Trial summary\n",
            "Hyperparameters:\n",
            "num_layers: 15\n",
            "units0: 128\n",
            "units1: 192\n",
            "learning_rate: 0.01\n",
            "units2: 96\n",
            "units3: 64\n",
            "units4: 32\n",
            "units5: 32\n",
            "units6: 32\n",
            "units7: 32\n",
            "units8: 32\n",
            "units9: 32\n",
            "units10: 32\n",
            "units11: 32\n",
            "units12: 32\n",
            "units13: 32\n",
            "units14: 32\n",
            "Score: 0.2641553183396657\n",
            "Trial summary\n",
            "Hyperparameters:\n",
            "num_layers: 4\n",
            "units0: 160\n",
            "units1: 320\n",
            "learning_rate: 0.0001\n",
            "units2: 32\n",
            "units3: 32\n",
            "Score: 0.2656153341134389\n",
            "Trial summary\n",
            "Hyperparameters:\n",
            "num_layers: 11\n",
            "units0: 64\n",
            "units1: 448\n",
            "learning_rate: 0.01\n",
            "units2: 224\n",
            "units3: 160\n",
            "units4: 32\n",
            "units5: 256\n",
            "units6: 192\n",
            "units7: 224\n",
            "units8: 160\n",
            "units9: 64\n",
            "units10: 256\n",
            "units11: 224\n",
            "units12: 416\n",
            "units13: 384\n",
            "units14: 384\n",
            "Score: 0.27971620361010235\n",
            "Trial summary\n",
            "Hyperparameters:\n",
            "num_layers: 15\n",
            "units0: 288\n",
            "units1: 384\n",
            "learning_rate: 0.01\n",
            "units2: 128\n",
            "units3: 384\n",
            "units4: 64\n",
            "units5: 512\n",
            "units6: 448\n",
            "units7: 128\n",
            "units8: 512\n",
            "units9: 64\n",
            "units10: 192\n",
            "units11: 192\n",
            "units12: 128\n",
            "units13: 192\n",
            "units14: 480\n",
            "units15: 480\n",
            "units16: 96\n",
            "units17: 128\n",
            "Score: 0.28690773745377857\n",
            "Trial summary\n",
            "Hyperparameters:\n",
            "num_layers: 18\n",
            "units0: 480\n",
            "units1: 192\n",
            "learning_rate: 0.01\n",
            "units2: 320\n",
            "units3: 384\n",
            "units4: 224\n",
            "units5: 256\n",
            "units6: 320\n",
            "units7: 224\n",
            "units8: 256\n",
            "units9: 160\n",
            "units10: 128\n",
            "units11: 128\n",
            "units12: 288\n",
            "units13: 128\n",
            "units14: 320\n",
            "units15: 320\n",
            "units16: 512\n",
            "units17: 384\n",
            "Score: 0.2872619430224101\n",
            "Trial summary\n",
            "Hyperparameters:\n",
            "num_layers: 14\n",
            "units0: 448\n",
            "units1: 512\n",
            "learning_rate: 0.01\n",
            "units2: 128\n",
            "units3: 416\n",
            "units4: 480\n",
            "units5: 256\n",
            "units6: 480\n",
            "units7: 256\n",
            "units8: 352\n",
            "units9: 384\n",
            "units10: 448\n",
            "units11: 352\n",
            "units12: 416\n",
            "units13: 448\n",
            "units14: 448\n",
            "units15: 96\n",
            "units16: 256\n",
            "units17: 352\n",
            "Score: 0.28754056493441266\n"
          ],
          "output_type":"stream"
        }
      ],
      "metadata":{
        
      }
    },
    {
      "cell_type":"code",
      "source":[
        "from tensorflow.keras.models import Sequential\n",
        "from tensorflow.keras.layers import Dense"
      ],
      "execution_count":30,
      "outputs":[
        
      ],
      "metadata":{
        
      }
    },
    {
      "cell_type":"code",
      "source":[
        "def regression_model():\n",
        "    # create model\n",
        "    model = Sequential()\n",
        "\n",
        "    model.add(Dense(160,activation='relu', input_shape=(2,)))\n",
        "    model.add(Dense(320, activation='relu'))\n",
        "    model.add(Dense(32, activation='relu'))\n",
        "    model.add(Dense(32, activation='relu'))\n",
        "    model.add(Dense(2))\n",
        "    \n",
        "    # compile model\n",
        "    model.compile(optimizer='adam', loss='mean_squared_error')\n",
        "    return model#The above function create a model that has two hidden layers, each of 50 hidden units."
      ],
      "execution_count":80,
      "outputs":[
        
      ],
      "metadata":{
        
      }
    },
    {
      "cell_type":"code",
      "source":[
        "model = regression_model()"
      ],
      "execution_count":81,
      "outputs":[
        
      ],
      "metadata":{
        
      }
    },
    {
      "cell_type":"code",
      "source":[
        "model.fit(X_train, y_train, validation_split=0.3, epochs=100, verbose=2)"
      ],
      "execution_count":82,
      "outputs":[
        {
          "name":"stdout",
          "text":[
            "Epoch 1\/100\n",
            "19\/19 - 1s - loss: 0.3466 - val_loss: 0.2343\n",
            "Epoch 2\/100\n",
            "19\/19 - 0s - loss: 0.2056 - val_loss: 0.1734\n",
            "Epoch 3\/100\n",
            "19\/19 - 0s - loss: 0.1604 - val_loss: 0.1370\n",
            "Epoch 4\/100\n",
            "19\/19 - 0s - loss: 0.1201 - val_loss: 0.1086\n",
            "Epoch 5\/100\n",
            "19\/19 - 0s - loss: 0.0974 - val_loss: 0.0912\n",
            "Epoch 6\/100\n",
            "19\/19 - 0s - loss: 0.0805 - val_loss: 0.0752\n",
            "Epoch 7\/100\n",
            "19\/19 - 0s - loss: 0.0689 - val_loss: 0.0720\n",
            "Epoch 8\/100\n",
            "19\/19 - 0s - loss: 0.0688 - val_loss: 0.0770\n",
            "Epoch 9\/100\n",
            "19\/19 - 0s - loss: 0.0656 - val_loss: 0.0642\n",
            "Epoch 10\/100\n",
            "19\/19 - 0s - loss: 0.0604 - val_loss: 0.0636\n",
            "Epoch 11\/100\n",
            "19\/19 - 0s - loss: 0.0590 - val_loss: 0.0619\n",
            "Epoch 12\/100\n",
            "19\/19 - 0s - loss: 0.0586 - val_loss: 0.0619\n",
            "Epoch 13\/100\n",
            "19\/19 - 0s - loss: 0.0584 - val_loss: 0.0634\n",
            "Epoch 14\/100\n",
            "19\/19 - 0s - loss: 0.0603 - val_loss: 0.0610\n",
            "Epoch 15\/100\n",
            "19\/19 - 0s - loss: 0.0587 - val_loss: 0.0622\n",
            "Epoch 16\/100\n",
            "19\/19 - 0s - loss: 0.0666 - val_loss: 0.1084\n",
            "Epoch 17\/100\n",
            "19\/19 - 0s - loss: 0.0636 - val_loss: 0.0685\n",
            "Epoch 18\/100\n",
            "19\/19 - 0s - loss: 0.0590 - val_loss: 0.0595\n",
            "Epoch 19\/100\n",
            "19\/19 - 0s - loss: 0.0581 - val_loss: 0.0584\n",
            "Epoch 20\/100\n",
            "19\/19 - 0s - loss: 0.0559 - val_loss: 0.0584\n",
            "Epoch 21\/100\n",
            "19\/19 - 0s - loss: 0.0556 - val_loss: 0.0634\n",
            "Epoch 22\/100\n",
            "19\/19 - 0s - loss: 0.0612 - val_loss: 0.0762\n",
            "Epoch 23\/100\n",
            "19\/19 - 0s - loss: 0.0603 - val_loss: 0.0625\n",
            "Epoch 24\/100\n",
            "19\/19 - 0s - loss: 0.0560 - val_loss: 0.0610\n",
            "Epoch 25\/100\n",
            "19\/19 - 0s - loss: 0.0565 - val_loss: 0.0590\n",
            "Epoch 26\/100\n",
            "19\/19 - 0s - loss: 0.0544 - val_loss: 0.0576\n",
            "Epoch 27\/100\n",
            "19\/19 - 0s - loss: 0.0532 - val_loss: 0.0591\n",
            "Epoch 28\/100\n",
            "19\/19 - 0s - loss: 0.0553 - val_loss: 0.0584\n",
            "Epoch 29\/100\n",
            "19\/19 - 0s - loss: 0.0545 - val_loss: 0.0567\n",
            "Epoch 30\/100\n",
            "19\/19 - 0s - loss: 0.0527 - val_loss: 0.0657\n",
            "Epoch 31\/100\n",
            "19\/19 - 0s - loss: 0.0572 - val_loss: 0.0626\n",
            "Epoch 32\/100\n",
            "19\/19 - 0s - loss: 0.0554 - val_loss: 0.0600\n",
            "Epoch 33\/100\n",
            "19\/19 - 0s - loss: 0.0616 - val_loss: 0.0733\n",
            "Epoch 34\/100\n",
            "19\/19 - 0s - loss: 0.0575 - val_loss: 0.0607\n",
            "Epoch 35\/100\n",
            "19\/19 - 0s - loss: 0.0544 - val_loss: 0.0566\n",
            "Epoch 36\/100\n",
            "19\/19 - 0s - loss: 0.0536 - val_loss: 0.0568\n",
            "Epoch 37\/100\n",
            "19\/19 - 0s - loss: 0.0542 - val_loss: 0.0648\n",
            "Epoch 38\/100\n",
            "19\/19 - 0s - loss: 0.0560 - val_loss: 0.0584\n",
            "Epoch 39\/100\n",
            "19\/19 - 0s - loss: 0.0628 - val_loss: 0.0616\n",
            "Epoch 40\/100\n",
            "19\/19 - 0s - loss: 0.0590 - val_loss: 0.0577\n",
            "Epoch 41\/100\n",
            "19\/19 - 0s - loss: 0.0529 - val_loss: 0.0581\n",
            "Epoch 42\/100\n",
            "19\/19 - 0s - loss: 0.0528 - val_loss: 0.0565\n",
            "Epoch 43\/100\n",
            "19\/19 - 0s - loss: 0.0533 - val_loss: 0.0553\n",
            "Epoch 44\/100\n",
            "19\/19 - 0s - loss: 0.0510 - val_loss: 0.0611\n",
            "Epoch 45\/100\n",
            "19\/19 - 0s - loss: 0.0554 - val_loss: 0.0576\n",
            "Epoch 46\/100\n",
            "19\/19 - 0s - loss: 0.0563 - val_loss: 0.0644\n",
            "Epoch 47\/100\n",
            "19\/19 - 0s - loss: 0.0572 - val_loss: 0.0607\n",
            "Epoch 48\/100\n",
            "19\/19 - 0s - loss: 0.0541 - val_loss: 0.0556\n",
            "Epoch 49\/100\n",
            "19\/19 - 0s - loss: 0.0540 - val_loss: 0.0559\n",
            "Epoch 50\/100\n",
            "19\/19 - 0s - loss: 0.0515 - val_loss: 0.0562\n",
            "Epoch 51\/100\n",
            "19\/19 - 0s - loss: 0.0513 - val_loss: 0.0597\n",
            "Epoch 52\/100\n",
            "19\/19 - 0s - loss: 0.0590 - val_loss: 0.0697\n",
            "Epoch 53\/100\n",
            "19\/19 - 0s - loss: 0.0643 - val_loss: 0.0600\n",
            "Epoch 54\/100\n",
            "19\/19 - 0s - loss: 0.0561 - val_loss: 0.0560\n",
            "Epoch 55\/100\n",
            "19\/19 - 0s - loss: 0.0539 - val_loss: 0.0571\n",
            "Epoch 56\/100\n",
            "19\/19 - 0s - loss: 0.0533 - val_loss: 0.0608\n",
            "Epoch 57\/100\n",
            "19\/19 - 0s - loss: 0.0505 - val_loss: 0.0551\n",
            "Epoch 58\/100\n",
            "19\/19 - 0s - loss: 0.0547 - val_loss: 0.0666\n",
            "Epoch 59\/100\n",
            "19\/19 - 0s - loss: 0.0574 - val_loss: 0.0719\n",
            "Epoch 60\/100\n",
            "19\/19 - 0s - loss: 0.0569 - val_loss: 0.0579\n",
            "Epoch 61\/100\n",
            "19\/19 - 0s - loss: 0.0517 - val_loss: 0.0559\n",
            "Epoch 62\/100\n",
            "19\/19 - 0s - loss: 0.0530 - val_loss: 0.0548\n",
            "Epoch 63\/100\n",
            "19\/19 - 0s - loss: 0.0525 - val_loss: 0.0614\n",
            "Epoch 64\/100\n",
            "19\/19 - 0s - loss: 0.0621 - val_loss: 0.0695\n",
            "Epoch 65\/100\n",
            "19\/19 - 0s - loss: 0.0544 - val_loss: 0.0568\n",
            "Epoch 66\/100\n",
            "19\/19 - 0s - loss: 0.0539 - val_loss: 0.0641\n",
            "Epoch 67\/100\n",
            "19\/19 - 0s - loss: 0.0568 - val_loss: 0.0616\n",
            "Epoch 68\/100\n",
            "19\/19 - 0s - loss: 0.0547 - val_loss: 0.0580\n",
            "Epoch 69\/100\n",
            "19\/19 - 0s - loss: 0.0547 - val_loss: 0.0559\n",
            "Epoch 70\/100\n",
            "19\/19 - 0s - loss: 0.0533 - val_loss: 0.0541\n",
            "Epoch 71\/100\n",
            "19\/19 - 0s - loss: 0.0519 - val_loss: 0.0590\n",
            "Epoch 72\/100\n",
            "19\/19 - 0s - loss: 0.0561 - val_loss: 0.0652\n",
            "Epoch 73\/100\n",
            "19\/19 - 0s - loss: 0.0571 - val_loss: 0.0667\n",
            "Epoch 74\/100\n",
            "19\/19 - 0s - loss: 0.0542 - val_loss: 0.0575\n",
            "Epoch 75\/100\n",
            "19\/19 - 0s - loss: 0.0529 - val_loss: 0.0546\n",
            "Epoch 76\/100\n",
            "19\/19 - 0s - loss: 0.0531 - val_loss: 0.0576\n",
            "Epoch 77\/100\n",
            "19\/19 - 0s - loss: 0.0554 - val_loss: 0.0646\n",
            "Epoch 78\/100\n",
            "19\/19 - 0s - loss: 0.0529 - val_loss: 0.0665\n",
            "Epoch 79\/100\n",
            "19\/19 - 0s - loss: 0.0555 - val_loss: 0.0568\n",
            "Epoch 80\/100\n",
            "19\/19 - 0s - loss: 0.0504 - val_loss: 0.0612\n",
            "Epoch 81\/100\n",
            "19\/19 - 0s - loss: 0.0518 - val_loss: 0.0539\n",
            "Epoch 82\/100\n",
            "19\/19 - 0s - loss: 0.0517 - val_loss: 0.0535\n",
            "Epoch 83\/100\n",
            "19\/19 - 0s - loss: 0.0532 - val_loss: 0.0546\n",
            "Epoch 84\/100\n",
            "19\/19 - 0s - loss: 0.0517 - val_loss: 0.0548\n",
            "Epoch 85\/100\n",
            "19\/19 - 0s - loss: 0.0524 - val_loss: 0.0541\n",
            "Epoch 86\/100\n",
            "19\/19 - 0s - loss: 0.0519 - val_loss: 0.0564\n",
            "Epoch 87\/100\n",
            "19\/19 - 0s - loss: 0.0528 - val_loss: 0.0544\n",
            "Epoch 88\/100\n",
            "19\/19 - 0s - loss: 0.0516 - val_loss: 0.0541\n",
            "Epoch 89\/100\n",
            "19\/19 - 0s - loss: 0.0503 - val_loss: 0.0561\n",
            "Epoch 90\/100\n",
            "19\/19 - 0s - loss: 0.0537 - val_loss: 0.0541\n",
            "Epoch 91\/100\n",
            "19\/19 - 0s - loss: 0.0630 - val_loss: 0.0589\n",
            "Epoch 92\/100\n",
            "19\/19 - 0s - loss: 0.0530 - val_loss: 0.0543\n",
            "Epoch 93\/100\n",
            "19\/19 - 0s - loss: 0.0509 - val_loss: 0.0607\n",
            "Epoch 94\/100\n",
            "19\/19 - 0s - loss: 0.0530 - val_loss: 0.0538\n",
            "Epoch 95\/100\n",
            "19\/19 - 0s - loss: 0.0513 - val_loss: 0.0618\n",
            "Epoch 96\/100\n",
            "19\/19 - 0s - loss: 0.0557 - val_loss: 0.0597\n",
            "Epoch 97\/100\n",
            "19\/19 - 0s - loss: 0.0537 - val_loss: 0.0609\n",
            "Epoch 98\/100\n",
            "19\/19 - 0s - loss: 0.0508 - val_loss: 0.0550\n",
            "Epoch 99\/100\n",
            "19\/19 - 0s - loss: 0.0510 - val_loss: 0.0535\n",
            "Epoch 100\/100\n",
            "19\/19 - 0s - loss: 0.0570 - val_loss: 0.0541\n"
          ],
          "output_type":"stream"
        },
        {
          "data":{
            "text\/plain":[
              "<tensorflow.python.keras.callbacks.History at 0x7f5823c7faf0>"
            ]
          },
          "metadata":{
            
          },
          "output_type":"display_data"
        }
      ],
      "metadata":{
        
      }
    },
    {
      "cell_type":"code",
      "source":[
        "pred=model.predict(X_test)\n",
        "pred"
      ],
      "execution_count":83,
      "outputs":[
        {
          "data":{
            "text\/plain":[
              "array([[-0.79806995, -0.34032395],\n",
              "       [-0.5312855 ,  1.0742341 ],\n",
              "       [-0.5381628 ,  1.1128017 ],\n",
              "       [-0.59403825,  1.1877191 ],\n",
              "       [-0.54562175,  1.1231034 ],\n",
              "       [-0.620363  ,  1.2184874 ],\n",
              "       [-0.5393305 ,  0.9007597 ],\n",
              "       [-0.5315134 ,  0.8579562 ],\n",
              "       [-0.5306869 ,  1.0695715 ],\n",
              "       [-0.6342554 ,  1.2338767 ],\n",
              "       [-0.5205118 ,  0.8038236 ],\n",
              "       [-0.53800595,  0.9259904 ],\n",
              "       [-0.5215679 ,  0.8116605 ],\n",
              "       [-0.5305949 ,  1.0018618 ],\n",
              "       [-0.52537143,  0.8298017 ],\n",
              "       [-0.7843276 ,  1.1893916 ],\n",
              "       [-0.5298616 ,  0.78308916],\n",
              "       [-0.601203  ,  1.196698  ],\n",
              "       [-0.5375334 ,  0.9319605 ],\n",
              "       [-0.52114105,  0.80076534],\n",
              "       [-0.814592  ,  1.0703669 ],\n",
              "       [-0.53524965,  0.9608166 ],\n",
              "       [-0.58051825, -0.40239558],\n",
              "       [-0.8732369 ,  0.5986546 ],\n",
              "       [-0.8690182 ,  0.44504037],\n",
              "       [-0.5256864 ,  1.0381334 ],\n",
              "       [-0.52708626,  0.8381653 ],\n",
              "       [-0.5317362 ,  0.9959861 ],\n",
              "       [-0.8167605 , -0.2663171 ],\n",
              "       [-0.52854675,  1.019124  ],\n",
              "       [-0.8045012 ,  1.112886  ],\n",
              "       [-0.5316746 ,  0.85881495],\n",
              "       [-0.5592069 , -0.3873119 ],\n",
              "       [-0.7289499 ,  1.3324511 ],\n",
              "       [-0.44420612, -0.301706  ],\n",
              "       [-0.849868  , -0.01749289],\n",
              "       [-0.53877926,  0.9077248 ],\n",
              "       [-0.5296063 ,  1.0142741 ],\n",
              "       [-0.6981256 ,  1.3011823 ],\n",
              "       [-0.5213351 ,  0.8096044 ],\n",
              "       [-0.5225638 ,  0.79857457],\n",
              "       [-0.5321582 ,  0.8613914 ],\n",
              "       [-0.5251397 ,  0.82831067],\n",
              "       [-0.53682476,  0.940916  ],\n",
              "       [-0.65198797, -0.45147964],\n",
              "       [-0.79188967,  1.1639019 ],\n",
              "       [-0.58114564,  1.170511  ],\n",
              "       [-0.7454747 , -0.47714892],\n",
              "       [-0.55605805,  1.1371866 ],\n",
              "       [-0.53381705,  0.7757417 ],\n",
              "       [-0.5331352 ,  0.9785385 ],\n",
              "       [-0.5257302 ,  0.8321164 ],\n",
              "       [-0.52323246,  0.7962034 ],\n",
              "       [-0.529291  ,  0.84804285],\n",
              "       [-0.7207662 , -0.49293074],\n",
              "       [-0.6407174 ,  1.2415378 ],\n",
              "       [-0.7969351 ,  1.142642  ],\n",
              "       [-0.5266635 ,  1.0343177 ],\n",
              "       [-0.6532885 ,  1.2555373 ],\n",
              "       [-0.73615026, -0.48401424],\n",
              "       [-0.52491   ,  0.8268313 ],\n",
              "       [-0.53044957,  0.7828593 ],\n",
              "       [-0.6472174 ,  1.2491969 ],\n",
              "       [-0.5256864 ,  1.0381334 ],\n",
              "       [-0.52170485,  0.799883  ],\n",
              "       [-0.79806995, -0.34032395],\n",
              "       [-0.5981966 ,  1.1930374 ],\n",
              "       [-0.8481618 ,  0.9043975 ],\n",
              "       [-0.54448545,  1.121429  ],\n",
              "       [-0.526257  ,  1.0416118 ],\n",
              "       [-0.5601399 ,  1.1425536 ],\n",
              "       [-0.8452816 , -0.13488778],\n",
              "       [-0.5393188 ,  0.89419264],\n",
              "       [-0.52464014, -0.36290324],\n",
              "       [-0.63641095, -0.44159004],\n",
              "       [-0.4232947 , -0.2873046 ],\n",
              "       [-0.5346984 ,  0.967782  ],\n",
              "       [-0.52708626,  0.8381653 ],\n",
              "       [-0.5497036 ,  1.1284704 ],\n",
              "       [-0.5947286 ,  1.1880419 ],\n",
              "       [-0.53198266,  0.99290335],\n",
              "       [-0.814592  ,  1.0703669 ],\n",
              "       [-0.53165424,  0.9970136 ],\n",
              "       [-0.58229685,  1.1721673 ],\n",
              "       [-0.5261184 ,  0.78933847],\n",
              "       [-0.8444654 ,  0.92949986],\n",
              "       [-0.53354084,  1.0885937 ],\n",
              "       [-0.5223675 ,  0.7970736 ],\n",
              "       [-0.53288865,  1.0838445 ],\n",
              "       [-0.57815295,  1.1668756 ],\n",
              "       [-0.7868482 ,  1.1808951 ],\n",
              "       [-0.59434265, -0.4122161 ],\n",
              "       [-0.81963325,  1.0533736 ],\n",
              "       [-0.53264767,  1.0826238 ],\n",
              "       [-0.7229598 , -0.49212477],\n",
              "       [-0.57516015,  1.1632402 ],\n",
              "       [-0.531191  ,  0.85623854],\n",
              "       [-0.6025233 , -0.41795018],\n",
              "       [-0.52491   ,  0.8268313 ],\n",
              "       [-0.5286463 ,  0.8446073 ],\n",
              "       [-0.6053238 , -0.4199755 ],\n",
              "       [-0.8542025 ,  0.09918316],\n",
              "       [-0.53240675,  1.0814034 ],\n",
              "       [-0.7120707 ,  1.3155549 ],\n",
              "       [-0.5252555 ,  0.82905614],\n",
              "       [-0.5378485 ,  0.92798054],\n",
              "       [-0.5282275 ,  0.786569  ],\n",
              "       [-0.8608711 ,  0.80488133],\n",
              "       [-0.46185315, -0.31547806],\n",
              "       [-0.82457393, -0.23220646],\n",
              "       [-0.64642715, -0.44806108],\n",
              "       [-0.52107   ,  0.802897  ],\n",
              "       [-0.52699304,  1.0301803 ],\n",
              "       [-0.5266974 ,  0.8357805 ],\n",
              "       [-0.7106669 , -0.48840508],\n",
              "       [-0.7944143 ,  1.1511385 ],\n",
              "       [-0.7017872 , -0.48286602],\n",
              "       [-0.6981256 ,  1.3011823 ],\n",
              "       [-0.5439099 , -0.37643698],\n",
              "       [-0.53800595,  0.9259904 ],\n",
              "       [-0.80433184, -0.3141418 ],\n",
              "       [-0.84039366,  0.94652605],\n",
              "       [-0.59563607, -0.41305965],\n",
              "       [-0.5343806 ,  0.87130487],\n",
              "       [-0.53148943,  0.9990804 ],\n",
              "       [-0.533897  ,  0.8687282 ],\n",
              "       [-0.52265567,  0.79678345],\n",
              "       [-0.5527432 , -0.38272324],\n",
              "       [-0.5251588 ,  0.7914526 ],\n",
              "       [-0.5281349 ,  1.024296  ],\n",
              "       [-0.64305997,  1.2438102 ],\n",
              "       [-0.53240675,  1.0814034 ],\n",
              "       [-0.7137065 , -0.4903678 ],\n",
              "       [-0.6745229 ,  1.27687   ],\n",
              "       [-0.53474575,  1.0946965 ],\n",
              "       [-0.6407174 ,  1.2415378 ],\n",
              "       [-0.6886054 ,  1.2913504 ],\n",
              "       [-0.70194817,  1.3047371 ],\n",
              "       [-0.53165424,  0.9970136 ],\n",
              "       [-0.53477716,  0.966787  ],\n",
              "       [-0.52544725,  0.791251  ],\n",
              "       [-0.5291299 ,  0.8471842 ],\n",
              "       [-0.52342254,  0.8198204 ],\n",
              "       [-0.8045011 ,  1.112886  ],\n",
              "       [-0.732188  , -0.4867806 ],\n",
              "       [-0.5264988 ,  1.0363863 ],\n",
              "       [-0.53181344,  0.7799139 ],\n",
              "       [-0.7289499 ,  1.3324511 ],\n",
              "       [-0.5239747 ,  0.8233733 ],\n",
              "       [-0.8662075 ,  0.38114735],\n",
              "       [-0.58644074,  1.1774589 ],\n",
              "       [-0.5353059 ,  0.7742473 ],\n",
              "       [-0.5273663 ,  0.7870402 ],\n",
              "       [-0.5464579 , -0.3782744 ],\n",
              "       [-0.5549217 ,  1.1355121 ],\n",
              "       [-0.5270755 ,  1.029146  ],\n",
              "       [-0.7207662 , -0.49293074],\n",
              "       [-0.56965524, -0.3946784 ],\n",
              "       [-0.8499088 ,  0.8893687 ],\n",
              "       [-0.53199536,  1.0778748 ],\n",
              "       [-0.6350778 , -0.44083318],\n",
              "       [-0.8654456 ,  0.35475573],\n",
              "       [-0.52134913,  0.8024337 ],\n",
              "       [-0.62658703, -0.43509594],\n",
              "       [-0.63215065,  1.2319714 ],\n",
              "       [-0.53611934,  0.87864184],\n",
              "       [-0.66200423, -0.4579506 ],\n",
              "       [-0.5377698 ,  0.9289756 ],\n",
              "       [-0.6826482 , -0.47096822],\n",
              "       [-0.5279117 ,  1.0520605 ],\n",
              "       [-0.5833109 , -0.4044295 ],\n",
              "       [-0.613658  , -0.42582473],\n",
              "       [-0.58459926,  1.1754798 ],\n",
              "       [-0.5266974 ,  0.8357805 ],\n",
              "       [-0.528956  ,  1.0590245 ],\n",
              "       [-0.5139447 , -0.35493955],\n",
              "       [-0.52170485,  0.799883  ],\n",
              "       [-0.62415874,  1.2233582 ],\n",
              "       [-0.5258369 ,  1.0392748 ],\n",
              "       [-0.7868482 ,  1.1808951 ],\n",
              "       [-0.6981256 ,  1.3011823 ],\n",
              "       [-0.5236138 ,  0.79420143],\n",
              "       [-0.7660997 , -0.4480872 ],\n",
              "       [-0.6077181 ,  1.2050083 ],\n",
              "       [-0.8739666 ,  0.6352608 ],\n",
              "       [-0.52112824,  0.80760777],\n",
              "       [-0.53426385,  1.0922555 ],\n",
              "       [-0.8462167 ,  0.91454923],\n",
              "       [-0.82457393, -0.23220646],\n",
              "       [-0.5653626 ,  1.1495843 ],\n",
              "       [-0.5485673 ,  1.126796  ],\n",
              "       [-0.5286053 ,  0.7850125 ],\n",
              "       [-0.52258056,  0.8164436 ],\n",
              "       [-0.52114105,  0.80076534],\n",
              "       [-0.5799945 ,  1.1688547 ],\n",
              "       [-0.7142843 ,  1.3181217 ],\n",
              "       [-0.80702573,  1.1001228 ],\n",
              "       [-0.52548754,  0.8305502 ],\n",
              "       [-0.58229685,  1.1721673 ],\n",
              "       [-0.5299357 ,  1.0101367 ],\n",
              "       [-0.8196373 ,  1.0491071 ],\n",
              "       [-0.53402287,  1.0910348 ],\n",
              "       [-0.5239747 ,  0.8233733 ],\n",
              "       [-0.82858896,  1.0106918 ],\n",
              "       [-0.5236311 ,  0.82123786],\n",
              "       [-0.62658703, -0.43509594],\n",
              "       [-0.5250237 ,  0.8275653 ],\n",
              "       [-0.52491   ,  0.8268313 ],\n",
              "       [-0.5362806 ,  0.87950045],\n",
              "       [-0.5238603 ,  0.8226614 ],\n",
              "       [-0.7948446 , -0.35110983],\n",
              "       [-0.8462167 ,  0.91454923],\n",
              "       [-0.60942554, -0.42285216],\n",
              "       [-0.52107   ,  0.802897  ],\n",
              "       [-0.52487034,  0.7916538 ],\n",
              "       [-0.5266772 ,  1.0439491 ],\n",
              "       [-0.5333033 ,  0.9765147 ],\n",
              "       [-0.53729725,  0.93494564],\n",
              "       [-0.5252555 ,  0.82905614],\n",
              "       [-0.5215679 ,  0.8116605 ],\n",
              "       [-0.7167461 , -0.4923304 ],\n",
              "       [-0.5335745 ,  0.8670106 ],\n",
              "       [-0.5225806 ,  0.8164437 ],\n",
              "       [-0.676607  , -0.46701932],\n",
              "       [-0.8501071 ,  0.89424574],\n",
              "       [-0.52699304,  1.0301803 ],\n",
              "       [-0.5224098 ,  0.8150369 ],\n",
              "       [-0.52342254,  0.8198204 ],\n",
              "       [-0.5240887 ,  0.824094  ],\n",
              "       [-0.8045011 ,  1.112886  ],\n",
              "       [-0.524195  ,  0.7936664 ],\n",
              "       [-0.5382422 ,  0.9230052 ],\n",
              "       [-0.8324739 , -0.20282617],\n",
              "       [-0.52352077,  0.79591334],\n",
              "       [-0.82457393, -0.23220646],\n",
              "       [-0.5238091 ,  0.79562324],\n",
              "       [-0.8167605 , -0.2663171 ],\n",
              "       [-0.5239747 ,  0.8233733 ],\n",
              "       [-0.5736754 , -0.39750764],\n",
              "       [-0.53502524,  0.87474   ],\n",
              "       [-0.5226661 ,  0.817147  ],\n",
              "       [-0.53157187,  0.99804616],\n",
              "       [-0.6762514 ,  1.2788064 ],\n",
              "       [-0.6356334 ,  1.2356727 ],\n",
              "       [-0.5687826 ,  1.1545802 ],\n",
              "       [-0.524195  ,  0.7936664 ],\n",
              "       [-0.8633677 ,  0.78686166],\n",
              "       [-0.5238603 ,  0.8226614 ],\n",
              "       [-0.5340158 ,  0.77687   ],\n",
              "       [-0.69604516,  1.2986602 ],\n",
              "       [-0.58114564,  1.170511  ],\n",
              "       [-0.52112824,  0.80760777],\n",
              "       [-0.66633177, -0.46067038],\n",
              "       [-0.52258056,  0.8164436 ],\n",
              "       [-0.52294403,  0.7964934 ],\n",
              "       [-0.7932676 , -0.3588714 ],\n",
              "       [-0.8089445 , -0.29563594],\n",
              "       [-0.5236138 ,  0.79420143],\n",
              "       [-0.54562175,  1.1231034 ],\n",
              "       [-0.49307403, -0.3394647 ],\n",
              "       [-0.8385226 ,  0.9593078 ],\n",
              "       [-0.63641095, -0.44159004],\n",
              "       [-0.5852896 ,  1.1758027 ],\n",
              "       [-0.5301556 ,  0.7829741 ],\n",
              "       [-0.73526406, -0.48499927],\n",
              "       [-0.5324774 ,  1.080316  ],\n",
              "       [-0.79806995, -0.34032395],\n",
              "       [-0.729112  , -0.48856202],\n",
              "       [-0.5257302 ,  0.8321164 ],\n",
              "       [-0.5740194 ,  1.1615754 ],\n",
              "       [-0.70019543,  1.3036047 ],\n",
              "       [-0.86263466,  0.29086187],\n",
              "       [-0.58051825, -0.40239558],\n",
              "       [-0.6138275 ,  1.2114897 ],\n",
              "       [-0.5315134 ,  0.8579562 ],\n",
              "       [-0.53729725,  0.93494564],\n",
              "       [-0.8419618 , -0.16535515],\n",
              "       [-0.5271579 ,  1.0281117 ],\n",
              "       [-0.6370114 ,  1.2374687 ],\n",
              "       [-0.53044957,  0.7828593 ],\n",
              "       [-0.510475  , -0.35241577],\n",
              "       [-0.5204133 ,  0.80438554],\n",
              "       [-0.5315156 ,  1.0754371 ],\n",
              "       [-0.5296063 ,  1.0142741 ],\n",
              "       [-0.5315134 ,  0.8579562 ],\n",
              "       [-0.52572423, -0.36361715],\n",
              "       [-0.5485673 ,  1.126796  ],\n",
              "       [-0.53713965,  0.9369358 ],\n",
              "       [-0.5355915 ,  0.7741988 ],\n",
              "       [-0.66333747, -0.4587076 ],\n",
              "       [-0.5306772 ,  1.0008276 ],\n",
              "       [-0.63341975,  1.2335863 ],\n",
              "       [-0.8585032 ,  0.82960844],\n",
              "       [-0.5344345 ,  1.094556  ],\n",
              "       [-0.53658855,  0.94390106],\n",
              "       [-0.5601399 ,  1.1425536 ],\n",
              "       [-0.5238091 ,  0.79562324],\n",
              "       [-0.5239747 ,  0.8233733 ],\n",
              "       [-0.5223675 ,  0.7970736 ],\n",
              "       [-0.529771  ,  1.0122054 ],\n",
              "       [-0.52724075,  0.83900493],\n",
              "       [-0.6262507 ,  1.2252424 ],\n",
              "       [-0.6902174 ,  1.292414  ],\n",
              "       [-0.5353284 ,  0.95982164],\n",
              "       [-0.83877087, -0.17642677],\n",
              "       [-0.5386217 ,  0.9097152 ],\n",
              "       [-0.82929456, -0.21364051],\n",
              "       [-0.5272402 ,  1.0270772 ],\n",
              "       [-0.62658703, -0.43509594],\n",
              "       [-0.6572361 ,  1.2598162 ],\n",
              "       [-0.7944143 ,  1.1511385 ],\n",
              "       [-0.41428813, -0.28415683],\n",
              "       [-0.69151205, -0.47651705],\n",
              "       [-0.531997  ,  0.86053264],\n",
              "       [-0.70037603, -0.482066  ],\n",
              "       [-0.53344023,  0.7770386 ],\n",
              "       [-0.5353284 ,  0.95982164],\n",
              "       [-0.5296135 ,  0.8497604 ],\n",
              "       [-0.84816194,  0.90439767],\n",
              "       [-0.53695285,  1.110009  ],\n",
              "       [-0.53378195,  1.0898143 ],\n",
              "       [-0.52681977,  0.83656734],\n",
              "       [-0.53808475,  0.9249953 ],\n",
              "       [-0.5353284 ,  0.95982164],\n",
              "       [-0.53659046,  0.8811874 ],\n",
              "       [-0.7416225 , -0.48088965],\n",
              "       [-0.6981256 ,  1.3011823 ],\n",
              "       [-0.5264671 ,  1.0427804 ],\n",
              "       [-0.5256078 ,  0.8313297 ],\n",
              "       [-0.53493464,  0.96479684],\n",
              "       [-0.87220466,  0.7216764 ],\n",
              "       [-0.7756349 , -0.4253001 ],\n",
              "       [-0.73747003, -0.48416206],\n",
              "       [-0.53222907,  0.9898205 ],\n",
              "       [-0.52323246,  0.7962034 ],\n",
              "       [-0.6587657 ,  1.2617161 ],\n",
              "       [-0.5272277 ,  1.048497  ],\n",
              "       [-0.8562515 ,  0.13668483],\n",
              "       [-0.52342254,  0.8198204 ],\n",
              "       [-0.6081245 , -0.4220011 ],\n",
              "       [-0.64583164,  1.2474014 ],\n",
              "       [-0.65094584,  1.2532651 ],\n",
              "       [-0.52896863,  0.8463251 ],\n",
              "       [-0.6249815 ,  1.2236272 ],\n",
              "       [-0.8570132 ,  0.16307637],\n",
              "       [-0.5310554 ,  1.0730311 ],\n",
              "       [-0.56354874,  1.1475773 ],\n",
              "       [-0.5250237 ,  0.8275653 ],\n",
              "       [-0.5265749 ,  0.8349935 ],\n",
              "       [-0.52198666,  0.79944164],\n",
              "       [-0.42509538, -0.28818747],\n",
              "       [-0.8736329 ,  0.5727751 ],\n",
              "       [-0.8633966 ,  0.3172534 ],\n",
              "       [-0.52896863,  0.8463251 ],\n",
              "       [-0.53795314,  0.88869876],\n",
              "       [-0.5490308 ,  1.1281272 ],\n",
              "       [-0.52491   ,  0.8268313 ],\n",
              "       [-0.529291  ,  0.84804285],\n",
              "       [-0.73438156, -0.4859747 ],\n",
              "       [-0.70924366, -0.48761252],\n",
              "       [-0.7852397 , -0.38820502],\n",
              "       [-0.82774854, -0.22141275],\n",
              "       [-0.73130554, -0.48775598],\n",
              "       [-0.59704036,  1.1913718 ],\n",
              "       [-0.6762514 ,  1.2788064 ],\n",
              "       [-0.52695084,  0.8373637 ],\n",
              "       [-0.5238091 ,  0.79562324],\n",
              "       [-0.814592  ,  1.0703669 ],\n",
              "       [-0.67217505, -0.46424487],\n",
              "       [-0.53461975,  0.96877706],\n",
              "       [-0.5244863 ,  0.7934038 ],\n",
              "       [-0.53470296,  0.87302244]], dtype=float32)"
            ]
          },
          "metadata":{
            
          },
          "output_type":"display_data"
        }
      ],
      "metadata":{
        
      }
    },
    {
      "cell_type":"code",
      "source":[
        "score = model.evaluate(X_test, y_test,verbose=0)\n",
        "print('Loss:',score)"
      ],
      "execution_count":84,
      "outputs":[
        {
          "name":"stdout",
          "text":[
            "Loss: 0.056156717240810394\n"
          ],
          "output_type":"stream"
        }
      ],
      "metadata":{
        
      }
    },
    {
      "cell_type":"markdown",
      "source":[
        "#### after training a regression model"
      ],
      "attachments":{
        
      },
      "metadata":{
        
      }
    },
    {
      "cell_type":"code",
      "source":[
        "#original shoulder\n",
        "sx = x1[0]\n",
        "sy = y1[0]\n",
        "#original elbow\n",
        "i3 = x2[0]\n",
        "j3 = y2[0]\n",
        "#original wrist\n",
        "i4 = x3[0]\n",
        "j4 = y3[0]\n",
        "\n",
        "#rounded elbow\n",
        "i1, j1 = roundoff_elbow(sx, sy, i3, j3)\n",
        "#predicted wrist \/ rounded wrist\n",
        "ans = model.predict([[i1, j1]])\n",
        "i2, j2 = ans[0][0], ans[0][1]\n",
        "\n",
        "#decrypting wrist\n",
        "print(retrivew1(i1,j1,i2,j2,i3,j3,i4,j4))\n",
        "\n",
        "print(i4, j4)"
      ],
      "execution_count":85,
      "outputs":[
        {
          "ename":"NameError",
          "evalue":"NameError: name 'retrivew1' is not defined",
          "traceback":[
            "\u001b[0;31m---------------------------------------------------------------------------",
            "Traceback (most recent call last)",
            "    at line 18 in <module>",
            "NameError: name 'retrivew1' is not defined"
          ],
          "output_type":"error"
        }
      ],
      "metadata":{
        
      }
    }
  ],
  "metadata":{
    
  },
  "nbformat":4,
  "nbformat_minor":0
}