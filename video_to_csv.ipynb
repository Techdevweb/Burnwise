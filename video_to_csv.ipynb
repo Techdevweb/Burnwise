{
 "cells": [
  {
   "cell_type": "code",
   "execution_count": 2,
   "metadata": {},
   "outputs": [],
   "source": [
    "import cv2\n",
    "from cv2 import data\n",
    "import mediapipe as mp\n",
    "import imutils\n",
    "import pandas as pd"
   ]
  },
  {
   "cell_type": "code",
   "execution_count": 5,
   "metadata": {},
   "outputs": [],
   "source": [
    "#video frame name\n",
    "video_frame_name = \"data\""
   ]
  },
  {
   "cell_type": "code",
   "execution_count": null,
   "metadata": {},
   "outputs": [],
   "source": [
    "name = []\n",
    "for i in range(33):\n",
    "    name.append(str(i) + \"_x\")\n",
    "    name.append(str(i) + \"_y\")\n",
    "    name.append(str(i) + \"_z\")\n",
    "    name.append(str(i) + \"_vis\")\n",
    "df = pd.DataFrame(columns=name)\n",
    "\n",
    "mp_drawing = mp.solutions.drawing_utils\n",
    "mp_pose = mp.solutions.pose\n",
    "\n",
    "cap = cv2.VideoCapture(\"data/\" + video_frame_name + \".mp4\")\n",
    "\n",
    "with mp_pose.Pose(\n",
    "        min_detection_confidence=0.5,\n",
    "        min_tracking_confidence=0.5) as pose:\n",
    "    while cap.isOpened():\n",
    "        success, image = cap.read()\n",
    "        if not success:\n",
    "            print(\"saving data...\")\n",
    "            df.to_csv(r'C:/Users/sufiyan/Documents/exercise tracker/data/' +\n",
    "                      video_frame_name+\".csv\", index=False, header=True)\n",
    "            print(\"data captured successfully\")\n",
    "            break\n",
    "\n",
    "        image = imutils.resize(image, width=400)\n",
    "        image = cv2.cvtColor(image, cv2.COLOR_BGR2RGB)\n",
    "\n",
    "        image.flags.writeable = False\n",
    "        results = pose.process(image)\n",
    "        coordinate = results.pose_landmarks.landmark\n",
    "\n",
    "        keypoints = []\n",
    "        x = []\n",
    "        y = []\n",
    "        z = []\n",
    "        vis = []\n",
    "\n",
    "        for data_point in results.pose_landmarks.landmark:\n",
    "            keypoints.append({\n",
    "                'X': data_point.x,\n",
    "                'Y': data_point.y,\n",
    "                'Z': data_point.z,\n",
    "                'Visibility': data_point.visibility,\n",
    "            })\n",
    "            x.append(-data_point.x)\n",
    "            y.append(-data_point.y)\n",
    "            z.append(-data_point.z)\n",
    "            vis.append(data_point.visibility)\n",
    "\n",
    "        data = {}\n",
    "        for i in range(33):\n",
    "            data[str(i) + \"_x\"] = x[i]\n",
    "            data[str(i) + \"_y\"] = y[i]\n",
    "            data[str(i) + \"_z\"] = z[i]\n",
    "            data[str(i) + \"_vis\"] = vis[i]\n",
    "\n",
    "        df = df.append(data, ignore_index=True)\n",
    "\n",
    "        image.flags.writeable = True\n",
    "        image = cv2.cvtColor(image, cv2.COLOR_RGB2BGR)\n",
    "        mp_drawing.draw_landmarks(\n",
    "            image, results.pose_landmarks, mp_pose.POSE_CONNECTIONS)\n",
    "        cv2.imshow('MediaPipe Pose', image)\n",
    "        key = cv2.waitKey(1) & 0xff\n",
    "        if key == 27: \n",
    "            break\n",
    "\n",
    "\n",
    "cap.release()\n"
   ]
  }
 ],
 "metadata": {
  "kernelspec": {
   "display_name": "Python 3",
   "language": "python",
   "name": "python3"
  },
  "language_info": {
   "codemirror_mode": {
    "name": "ipython",
    "version": 3
   },
   "file_extension": ".py",
   "mimetype": "text/x-python",
   "name": "python",
   "nbconvert_exporter": "python",
   "pygments_lexer": "ipython3",
   "version": "3.8.3"
  }
 },
 "nbformat": 4,
 "nbformat_minor": 4
}
