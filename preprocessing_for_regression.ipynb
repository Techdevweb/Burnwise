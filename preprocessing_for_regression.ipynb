{
 "cells": [
  {
   "cell_type": "markdown",
   "metadata": {},
   "source": [
    "# Code for preprocessing the data for training a Regeressor"
   ]
  },
  {
   "cell_type": "markdown",
   "metadata": {},
   "source": [
    "###### Note : following code is an example for preprocessing the data for a regressor\n",
    "###### this code is based on left shoulder, elbow and wrist coordinates"
   ]
  },
  {
   "cell_type": "markdown",
   "metadata": {},
   "source": [
    "### Importing Necessary Libraries"
   ]
  },
  {
   "cell_type": "code",
   "execution_count": null,
   "metadata": {},
   "outputs": [],
   "source": [
    "import numpy as np\n",
    "import pandas as pd\n",
    "import matplotlib.pyplot as plt"
   ]
  },
  {
   "cell_type": "markdown",
   "metadata": {},
   "source": [
    "### Reading Data"
   ]
  },
  {
   "cell_type": "code",
   "execution_count": null,
   "metadata": {},
   "outputs": [],
   "source": [
    "df = pd.read_csv('../data/data.csv')\n",
    "df.head()"
   ]
  },
  {
   "cell_type": "code",
   "execution_count": null,
   "metadata": {},
   "outputs": [],
   "source": [
    "#collecting metadata\n",
    "data = df[['11_x', '11_y', '13_x', '13_y', '15_x', '15_y']]"
   ]
  },
  {
   "cell_type": "code",
   "execution_count": null,
   "metadata": {},
   "outputs": [],
   "source": [
    "#renaming columns\n",
    "data.columns = ['left_shoulder_X', 'left_shoulder_Y',\n",
    "                'left_elbow_X', 'left_elbow_Y',\n",
    "                'left_wrist_X', 'left_wrist_Y']"
   ]
  },
  {
   "cell_type": "code",
   "execution_count": null,
   "metadata": {},
   "outputs": [],
   "source": [
    "#useful metadata\n",
    "data.head()"
   ]
  },
  {
   "cell_type": "markdown",
   "metadata": {},
   "source": [
    "### Preprocess"
   ]
  },
  {
   "cell_type": "code",
   "execution_count": null,
   "metadata": {},
   "outputs": [],
   "source": [
    "#getting the values\n",
    "x1 = data['left_shoulder_X']\n",
    "y1 = data['left_shoulder_Y']\n",
    "x2 = data['left_elbow_X']\n",
    "y2 = data['left_elbow_Y']\n",
    "x3 = data['left_wrist_X']\n",
    "y3 = data['left_wrist_Y']"
   ]
  },
  {
   "cell_type": "code",
   "execution_count": null,
   "metadata": {},
   "outputs": [],
   "source": [
    "#displaying raw metadata\n",
    "fig = plt.figure()\n",
    "ax1 = fig.add_subplot(111)\n",
    "ax1.scatter(x1, y1, s = 10, c = 'blue', label = 'shoulder')\n",
    "ax1.scatter(x2, y2, s = 10, c = 'green', label = 'elbow')\n",
    "ax1.scatter(x3, y3, s = 10, c = 'red', label = 'wrist')\n",
    "plt.legend(loc='upper right');\n",
    "plt.show()"
   ]
  },
  {
   "cell_type": "markdown",
   "metadata": {},
   "source": [
    "#### Encryption-Decryption Algorithm"
   ]
  },
  {
   "cell_type": "code",
   "execution_count": null,
   "metadata": {},
   "outputs": [],
   "source": [
    "#some important functions\n",
    "\n",
    "\n",
    "#slope formula\n",
    "def slope(x1, y1, x2, y2):\n",
    "    return (y2 - y1) / (x2 - x1)\n",
    "\n",
    "#ditance formula\n",
    "def distance(x1, y1, x2, y2):\n",
    "    return ((y2-y1)**2 + (x2-x1)**2)**0.5\n",
    "\n",
    "#rounding off the values for elbow coordinates into an arc\n",
    "def roundoff_elbow(x1, y1, x2, y2):\n",
    "    s = slope(x1, y1, x2, y2)\n",
    "    d = 1\n",
    "    x = d * (1 / (1+s**2))**0.5\n",
    "    y = s*x\n",
    "    return -round(x, 3), -round(y, 3)\n",
    "\n",
    "#rounding off the values for wrist coordinates\n",
    "def roundoff_wrist(x1, y1, x2, y2, x3, y3):\n",
    "    s = slope(x1, y1, x2, y2)\n",
    "    d = 1\n",
    "    x = (d * (1 / (1+s**2))**0.5) + x3\n",
    "    y = s*(x-x3) + y3\n",
    "    return x, y\n",
    "\n",
    "#decrypting the predicted values into real values\n",
    "def retrivew_wrist(x1, y1, x2, y2, x3, y3, x4, y4):\n",
    "    s = slope(x1, y1, x2, y2)\n",
    "    d = distance(x3, y3, x4, y4)\n",
    "    x = (d * (1 / (1+s**2))**0.5) + x3\n",
    "    y = s*(x-x3) + y3\n",
    "    return x, y"
   ]
  },
  {
   "cell_type": "code",
   "execution_count": null,
   "metadata": {},
   "outputs": [],
   "source": [
    "#rounding-off data\n",
    "a, b = roundoff_elbow(x1, y1, x2, y2)\n",
    "c, d = roundoff_wrist(x2, y2, x3, y3, a, b)"
   ]
  },
  {
   "cell_type": "code",
   "execution_count": null,
   "metadata": {},
   "outputs": [],
   "source": [
    "#displaying rounded data\n",
    "fig = plt.figure()\n",
    "ax1 = fig.add_subplot(111)\n",
    "ax1.scatter(0, 0, s = 100, c = 'blue', label = 'shoulder')\n",
    "ax1.scatter(a, b, s = 10, c = 'green', label = 'elbow')\n",
    "ax1.scatter(c, d, s = 10, c = 'red', label = 'wrist')\n",
    "plt.legend(loc='upper right');\n",
    "plt.show()"
   ]
  },
  {
   "cell_type": "markdown",
   "metadata": {},
   "source": [
    "#### Converting to a DataFrame"
   ]
  },
  {
   "cell_type": "code",
   "execution_count": null,
   "metadata": {},
   "outputs": [],
   "source": [
    "wrist_dataset = pd.DataFrame({'elbow_X': a,'elbow_Y': b, 'wrist_X': c, 'wrist_Y':d})\n",
    "wrist_dataset.head()"
   ]
  },
  {
   "cell_type": "markdown",
   "metadata": {},
   "source": [
    "### Reference for Training a Regressor"
   ]
  },
  {
   "cell_type": "code",
   "execution_count": null,
   "metadata": {},
   "outputs": [],
   "source": [
    "x = wrist_dataset.iloc[:, :2]\n",
    "y = wrist_dataset.iloc[:, 2:]"
   ]
  },
  {
   "cell_type": "markdown",
   "metadata": {},
   "source": [
    "#### after training a regression model"
   ]
  },
  {
   "cell_type": "code",
   "execution_count": null,
   "metadata": {},
   "outputs": [],
   "source": [
    "#original shoulder\n",
    "sx = x1[0]\n",
    "sy = y1[0]\n",
    "#original elbow\n",
    "i3 = x2[0]\n",
    "j3 = y2[0]\n",
    "#original wrist\n",
    "i4 = x3[0]\n",
    "j4 = y3[0]\n",
    "\n",
    "#rounded elbow\n",
    "i1, j1 = roundoff_elbow(sx, sy, i3, j3)\n",
    "#predicted wrist / rounded wrist\n",
    "ans = reg.predict([[i1, j1]])\n",
    "i2, j2 = ans[0][0], ans[0][1]\n",
    "\n",
    "#decrypting wrist\n",
    "print(retrivew1(i1,j1,i2,j2,i3,j3,i4,j4))\n",
    "\n",
    "print(i4, j4)"
   ]
  }
 ],
 "metadata": {
  "kernelspec": {
   "display_name": "Python 3",
   "language": "python",
   "name": "python3"
  },
  "language_info": {
   "codemirror_mode": {
    "name": "ipython",
    "version": 3
   },
   "file_extension": ".py",
   "mimetype": "text/x-python",
   "name": "python",
   "nbconvert_exporter": "python",
   "pygments_lexer": "ipython3",
   "version": "3.8.3"
  }
 },
 "nbformat": 4,
 "nbformat_minor": 4
}
