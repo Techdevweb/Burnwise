{
 "cells": [
  {
   "cell_type": "markdown",
   "metadata": {},
   "source": [
    "# Code for preprocessing the data for training a Classifier"
   ]
  },
  {
   "cell_type": "markdown",
   "metadata": {},
   "source": [
    "###### Note : following code is an example for preprocessing the data for a classifier\n",
    "###### this code is based on left shoulder and elbow coordinates"
   ]
  },
  {
   "cell_type": "markdown",
   "metadata": {},
   "source": [
    "### Importing Necessary Libraries"
   ]
  },
  {
   "cell_type": "code",
   "execution_count": 1,
   "metadata": {},
   "outputs": [],
   "source": [
    "import numpy as np\n",
    "import pandas as pd\n",
    "import matplotlib.pyplot as plt"
   ]
  },
  {
   "cell_type": "markdown",
   "metadata": {},
   "source": [
    "### Reading Data"
   ]
  },
  {
   "cell_type": "code",
   "execution_count": 2,
   "metadata": {},
   "outputs": [
    {
     "data": {
      "text/html": [
       "<div>\n",
       "<style scoped>\n",
       "    .dataframe tbody tr th:only-of-type {\n",
       "        vertical-align: middle;\n",
       "    }\n",
       "\n",
       "    .dataframe tbody tr th {\n",
       "        vertical-align: top;\n",
       "    }\n",
       "\n",
       "    .dataframe thead th {\n",
       "        text-align: right;\n",
       "    }\n",
       "</style>\n",
       "<table border=\"1\" class=\"dataframe\">\n",
       "  <thead>\n",
       "    <tr style=\"text-align: right;\">\n",
       "      <th></th>\n",
       "      <th>0_x</th>\n",
       "      <th>0_y</th>\n",
       "      <th>0_z</th>\n",
       "      <th>0_vis</th>\n",
       "      <th>1_x</th>\n",
       "      <th>1_y</th>\n",
       "      <th>1_z</th>\n",
       "      <th>1_vis</th>\n",
       "      <th>2_x</th>\n",
       "      <th>2_y</th>\n",
       "      <th>...</th>\n",
       "      <th>30_z</th>\n",
       "      <th>30_vis</th>\n",
       "      <th>31_x</th>\n",
       "      <th>31_y</th>\n",
       "      <th>31_z</th>\n",
       "      <th>31_vis</th>\n",
       "      <th>32_x</th>\n",
       "      <th>32_y</th>\n",
       "      <th>32_z</th>\n",
       "      <th>32_vis</th>\n",
       "    </tr>\n",
       "  </thead>\n",
       "  <tbody>\n",
       "    <tr>\n",
       "      <th>0</th>\n",
       "      <td>-0.513346</td>\n",
       "      <td>-0.486864</td>\n",
       "      <td>0.978329</td>\n",
       "      <td>1.0</td>\n",
       "      <td>-0.537284</td>\n",
       "      <td>-0.468331</td>\n",
       "      <td>0.907438</td>\n",
       "      <td>1.0</td>\n",
       "      <td>-0.551415</td>\n",
       "      <td>-0.468160</td>\n",
       "      <td>...</td>\n",
       "      <td>-0.712293</td>\n",
       "      <td>0.004528</td>\n",
       "      <td>-0.563900</td>\n",
       "      <td>-1.402235</td>\n",
       "      <td>-0.169188</td>\n",
       "      <td>0.001297</td>\n",
       "      <td>-0.414179</td>\n",
       "      <td>-1.400190</td>\n",
       "      <td>-0.236010</td>\n",
       "      <td>0.001425</td>\n",
       "    </tr>\n",
       "    <tr>\n",
       "      <th>1</th>\n",
       "      <td>-0.516051</td>\n",
       "      <td>-0.487786</td>\n",
       "      <td>0.801669</td>\n",
       "      <td>1.0</td>\n",
       "      <td>-0.540958</td>\n",
       "      <td>-0.469537</td>\n",
       "      <td>0.745705</td>\n",
       "      <td>1.0</td>\n",
       "      <td>-0.554932</td>\n",
       "      <td>-0.469614</td>\n",
       "      <td>...</td>\n",
       "      <td>-0.586721</td>\n",
       "      <td>0.003706</td>\n",
       "      <td>-0.546744</td>\n",
       "      <td>-1.396654</td>\n",
       "      <td>-0.105789</td>\n",
       "      <td>0.000889</td>\n",
       "      <td>-0.416563</td>\n",
       "      <td>-1.392031</td>\n",
       "      <td>-0.177770</td>\n",
       "      <td>0.000804</td>\n",
       "    </tr>\n",
       "    <tr>\n",
       "      <th>2</th>\n",
       "      <td>-0.517325</td>\n",
       "      <td>-0.486723</td>\n",
       "      <td>0.786777</td>\n",
       "      <td>1.0</td>\n",
       "      <td>-0.542302</td>\n",
       "      <td>-0.468774</td>\n",
       "      <td>0.730178</td>\n",
       "      <td>1.0</td>\n",
       "      <td>-0.556188</td>\n",
       "      <td>-0.468928</td>\n",
       "      <td>...</td>\n",
       "      <td>-0.572160</td>\n",
       "      <td>0.004798</td>\n",
       "      <td>-0.549911</td>\n",
       "      <td>-1.392735</td>\n",
       "      <td>-0.099640</td>\n",
       "      <td>0.001099</td>\n",
       "      <td>-0.424577</td>\n",
       "      <td>-1.388623</td>\n",
       "      <td>-0.168463</td>\n",
       "      <td>0.000999</td>\n",
       "    </tr>\n",
       "    <tr>\n",
       "      <th>3</th>\n",
       "      <td>-0.517781</td>\n",
       "      <td>-0.486719</td>\n",
       "      <td>0.770728</td>\n",
       "      <td>1.0</td>\n",
       "      <td>-0.542295</td>\n",
       "      <td>-0.468731</td>\n",
       "      <td>0.714361</td>\n",
       "      <td>1.0</td>\n",
       "      <td>-0.556079</td>\n",
       "      <td>-0.468834</td>\n",
       "      <td>...</td>\n",
       "      <td>-0.563850</td>\n",
       "      <td>0.004306</td>\n",
       "      <td>-0.552028</td>\n",
       "      <td>-1.392125</td>\n",
       "      <td>-0.066083</td>\n",
       "      <td>0.000939</td>\n",
       "      <td>-0.423960</td>\n",
       "      <td>-1.386563</td>\n",
       "      <td>-0.159205</td>\n",
       "      <td>0.000809</td>\n",
       "    </tr>\n",
       "    <tr>\n",
       "      <th>4</th>\n",
       "      <td>-0.519239</td>\n",
       "      <td>-0.487284</td>\n",
       "      <td>0.833225</td>\n",
       "      <td>1.0</td>\n",
       "      <td>-0.543011</td>\n",
       "      <td>-0.469002</td>\n",
       "      <td>0.772886</td>\n",
       "      <td>1.0</td>\n",
       "      <td>-0.556789</td>\n",
       "      <td>-0.469014</td>\n",
       "      <td>...</td>\n",
       "      <td>-0.574910</td>\n",
       "      <td>0.003707</td>\n",
       "      <td>-0.566962</td>\n",
       "      <td>-1.390860</td>\n",
       "      <td>-0.077285</td>\n",
       "      <td>0.000848</td>\n",
       "      <td>-0.432768</td>\n",
       "      <td>-1.386580</td>\n",
       "      <td>-0.154454</td>\n",
       "      <td>0.000748</td>\n",
       "    </tr>\n",
       "  </tbody>\n",
       "</table>\n",
       "<p>5 rows × 132 columns</p>\n",
       "</div>"
      ],
      "text/plain": [
       "        0_x       0_y       0_z  0_vis       1_x       1_y       1_z  1_vis  \\\n",
       "0 -0.513346 -0.486864  0.978329    1.0 -0.537284 -0.468331  0.907438    1.0   \n",
       "1 -0.516051 -0.487786  0.801669    1.0 -0.540958 -0.469537  0.745705    1.0   \n",
       "2 -0.517325 -0.486723  0.786777    1.0 -0.542302 -0.468774  0.730178    1.0   \n",
       "3 -0.517781 -0.486719  0.770728    1.0 -0.542295 -0.468731  0.714361    1.0   \n",
       "4 -0.519239 -0.487284  0.833225    1.0 -0.543011 -0.469002  0.772886    1.0   \n",
       "\n",
       "        2_x       2_y  ...      30_z    30_vis      31_x      31_y      31_z  \\\n",
       "0 -0.551415 -0.468160  ... -0.712293  0.004528 -0.563900 -1.402235 -0.169188   \n",
       "1 -0.554932 -0.469614  ... -0.586721  0.003706 -0.546744 -1.396654 -0.105789   \n",
       "2 -0.556188 -0.468928  ... -0.572160  0.004798 -0.549911 -1.392735 -0.099640   \n",
       "3 -0.556079 -0.468834  ... -0.563850  0.004306 -0.552028 -1.392125 -0.066083   \n",
       "4 -0.556789 -0.469014  ... -0.574910  0.003707 -0.566962 -1.390860 -0.077285   \n",
       "\n",
       "     31_vis      32_x      32_y      32_z    32_vis  \n",
       "0  0.001297 -0.414179 -1.400190 -0.236010  0.001425  \n",
       "1  0.000889 -0.416563 -1.392031 -0.177770  0.000804  \n",
       "2  0.001099 -0.424577 -1.388623 -0.168463  0.000999  \n",
       "3  0.000939 -0.423960 -1.386563 -0.159205  0.000809  \n",
       "4  0.000848 -0.432768 -1.386580 -0.154454  0.000748  \n",
       "\n",
       "[5 rows x 132 columns]"
      ]
     },
     "execution_count": 2,
     "metadata": {},
     "output_type": "execute_result"
    }
   ],
   "source": [
    "df = pd.read_csv('../data/data.csv')\n",
    "df.head()"
   ]
  },
  {
   "cell_type": "code",
   "execution_count": 3,
   "metadata": {},
   "outputs": [],
   "source": [
    "#collecting metadata\n",
    "data = df[['11_x', '11_y', '13_x', '13_y']]"
   ]
  },
  {
   "cell_type": "code",
   "execution_count": 4,
   "metadata": {},
   "outputs": [],
   "source": [
    "#renaming columns\n",
    "data.columns = ['left_shoulder_X', 'left_shoulder_Y',\n",
    "                'left_elbow_X', 'left_elbow_Y']"
   ]
  },
  {
   "cell_type": "code",
   "execution_count": 5,
   "metadata": {
    "scrolled": false
   },
   "outputs": [
    {
     "data": {
      "text/html": [
       "<div>\n",
       "<style scoped>\n",
       "    .dataframe tbody tr th:only-of-type {\n",
       "        vertical-align: middle;\n",
       "    }\n",
       "\n",
       "    .dataframe tbody tr th {\n",
       "        vertical-align: top;\n",
       "    }\n",
       "\n",
       "    .dataframe thead th {\n",
       "        text-align: right;\n",
       "    }\n",
       "</style>\n",
       "<table border=\"1\" class=\"dataframe\">\n",
       "  <thead>\n",
       "    <tr style=\"text-align: right;\">\n",
       "      <th></th>\n",
       "      <th>left_shoulder_X</th>\n",
       "      <th>left_shoulder_Y</th>\n",
       "      <th>left_elbow_X</th>\n",
       "      <th>left_elbow_Y</th>\n",
       "    </tr>\n",
       "  </thead>\n",
       "  <tbody>\n",
       "    <tr>\n",
       "      <th>0</th>\n",
       "      <td>-0.701167</td>\n",
       "      <td>-0.579701</td>\n",
       "      <td>-0.946057</td>\n",
       "      <td>-0.599737</td>\n",
       "    </tr>\n",
       "    <tr>\n",
       "      <th>1</th>\n",
       "      <td>-0.703238</td>\n",
       "      <td>-0.579433</td>\n",
       "      <td>-0.941791</td>\n",
       "      <td>-0.608207</td>\n",
       "    </tr>\n",
       "    <tr>\n",
       "      <th>2</th>\n",
       "      <td>-0.700262</td>\n",
       "      <td>-0.579484</td>\n",
       "      <td>-0.940807</td>\n",
       "      <td>-0.608857</td>\n",
       "    </tr>\n",
       "    <tr>\n",
       "      <th>3</th>\n",
       "      <td>-0.699332</td>\n",
       "      <td>-0.578418</td>\n",
       "      <td>-0.936533</td>\n",
       "      <td>-0.613209</td>\n",
       "    </tr>\n",
       "    <tr>\n",
       "      <th>4</th>\n",
       "      <td>-0.701886</td>\n",
       "      <td>-0.577890</td>\n",
       "      <td>-0.936760</td>\n",
       "      <td>-0.610650</td>\n",
       "    </tr>\n",
       "  </tbody>\n",
       "</table>\n",
       "</div>"
      ],
      "text/plain": [
       "   left_shoulder_X  left_shoulder_Y  left_elbow_X  left_elbow_Y\n",
       "0        -0.701167        -0.579701     -0.946057     -0.599737\n",
       "1        -0.703238        -0.579433     -0.941791     -0.608207\n",
       "2        -0.700262        -0.579484     -0.940807     -0.608857\n",
       "3        -0.699332        -0.578418     -0.936533     -0.613209\n",
       "4        -0.701886        -0.577890     -0.936760     -0.610650"
      ]
     },
     "execution_count": 5,
     "metadata": {},
     "output_type": "execute_result"
    }
   ],
   "source": [
    "#useful metadata\n",
    "data.head()"
   ]
  },
  {
   "cell_type": "markdown",
   "metadata": {},
   "source": [
    "### Preprocess"
   ]
  },
  {
   "cell_type": "code",
   "execution_count": 6,
   "metadata": {},
   "outputs": [],
   "source": [
    "#getting the values\n",
    "x1 = data['left_elbow_X']\n",
    "y1 = data['left_elbow_Y']\n",
    "x2 = data['left_shoulder_X']\n",
    "y2 = data['left_shoulder_Y']"
   ]
  },
  {
   "cell_type": "code",
   "execution_count": 7,
   "metadata": {},
   "outputs": [
    {
     "data": {
      "image/png": "[encoded data removed]",
      "text/plain": [
       "<Figure size 432x288 with 1 Axes>"
      ]
     },
     "metadata": {
      "needs_background": "light"
     },
     "output_type": "display_data"
    }
   ],
   "source": [
    "#displaying raw metadata\n",
    "fig = plt.figure()\n",
    "ax1 = fig.add_subplot(111)\n",
    "ax1.scatter(x1, y1, s = 10, c = 'b', label = 'elbow')\n",
    "ax1.scatter(x2, y2, s = 10, c = 'r', label = 'shoulder')\n",
    "plt.legend(loc='upper right');\n",
    "plt.show()"
   ]
  },
  {
   "cell_type": "code",
   "execution_count": 8,
   "metadata": {},
   "outputs": [],
   "source": [
    "#calculating mean of the shoulder, cause its the origin in this scenario\n",
    "dx = x2.mean()\n",
    "dy = y2.mean()"
   ]
  },
  {
   "cell_type": "code",
   "execution_count": 17,
   "metadata": {},
   "outputs": [],
   "source": [
    "#some important functions\n",
    "\n",
    "\n",
    "#slope formula\n",
    "def slope(x1, y1, x2, y2):\n",
    "    return (y2 - y1) / (x2 - x1)\n",
    "\n",
    "#rounding off the values for elbow coordinates into an arc\n",
    "def roundoff(x1, y1, x2, y2):\n",
    "    s = slope(x1, y1, x2, y2)\n",
    "    d = 1\n",
    "    x = d * ((d**2) / (1+s**2))**0.5\n",
    "    y = s*x\n",
    "    return -round(x, 3), -round(y, 3)"
   ]
  },
  {
   "cell_type": "code",
   "execution_count": 10,
   "metadata": {},
   "outputs": [],
   "source": [
    "#rounded-off data\n",
    "a, b = roundoff(x2, y2, x1, y1)"
   ]
  },
  {
   "cell_type": "code",
   "execution_count": 11,
   "metadata": {},
   "outputs": [
    {
     "data": {
      "image/png": "[encoded data removed]",
      "text/plain": [
       "<Figure size 432x288 with 1 Axes>"
      ]
     },
     "metadata": {
      "needs_background": "light"
     },
     "output_type": "display_data"
    }
   ],
   "source": [
    "#displaying rounded data\n",
    "fig = plt.figure()\n",
    "ax1 = fig.add_subplot(111)\n",
    "ax1.scatter(dx, dy, s = 100, c = 'green', label = 'shoulder')\n",
    "ax1.scatter(a, b, s = 10, c = 'b', label = 'elbow')\n",
    "plt.legend(loc='upper right');\n",
    "plt.show()"
   ]
  },
  {
   "cell_type": "markdown",
   "metadata": {},
   "source": [
    "#### Generating Fake Data"
   ]
  },
  {
   "cell_type": "code",
   "execution_count": 12,
   "metadata": {},
   "outputs": [],
   "source": [
    "fakex = []\n",
    "fakey = []\n",
    "def roundoff_fake():\n",
    "    for i in np.arange(-0.600, 1.000, 0.001):\n",
    "        for j in np.arange(-1.000, 1.000, 0.001):\n",
    "            if float(\"{0:.3}\".format(i**2 + j**2)) == 1 :\n",
    "                fakex.append(i)\n",
    "                fakey.append(j)\n",
    "roundoff_fake()"
   ]
  },
  {
   "cell_type": "code",
   "execution_count": 13,
   "metadata": {
    "scrolled": true
   },
   "outputs": [
    {
     "data": {
      "image/png": "[encoded data removed]",
      "text/plain": [
       "<Figure size 432x288 with 1 Axes>"
      ]
     },
     "metadata": {
      "needs_background": "light"
     },
     "output_type": "display_data"
    }
   ],
   "source": [
    "#displaying fake rounded data\n",
    "fig = plt.figure()\n",
    "ax1 = fig.add_subplot(111)\n",
    "ax1.scatter(fakex, fakey, s = 10, c = 'green', label = 'fake_elbow')\n",
    "ax1.scatter(a, b, s = 10, c = 'b', label = 'elbow')\n",
    "ax1.scatter(0, 0, s = 100, c = 'red', label = 'shoulder')\n",
    "plt.legend(loc='upper right');\n",
    "plt.show()"
   ]
  },
  {
   "cell_type": "markdown",
   "metadata": {},
   "source": [
    "#### Converting to a DataFrame"
   ]
  },
  {
   "cell_type": "code",
   "execution_count": 14,
   "metadata": {},
   "outputs": [],
   "source": [
    "x = []\n",
    "y = []\n",
    "z = []\n",
    "\n",
    "x.extend(a)\n",
    "y.extend(b)\n",
    "z1 = [1]*len(x)\n",
    "z.extend(z1)\n",
    "\n",
    "x.extend(fakex)\n",
    "y.extend(fakey)\n",
    "z2 = [0]*len(fakex)\n",
    "z.extend(z2)\n",
    "\n",
    "final_data = pd.DataFrame({'x': x,'y': y, 'z': z})"
   ]
  },
  {
   "cell_type": "code",
   "execution_count": 18,
   "metadata": {},
   "outputs": [
    {
     "data": {
      "text/html": [
       "<div>\n",
       "<style scoped>\n",
       "    .dataframe tbody tr th:only-of-type {\n",
       "        vertical-align: middle;\n",
       "    }\n",
       "\n",
       "    .dataframe tbody tr th {\n",
       "        vertical-align: top;\n",
       "    }\n",
       "\n",
       "    .dataframe thead th {\n",
       "        text-align: right;\n",
       "    }\n",
       "</style>\n",
       "<table border=\"1\" class=\"dataframe\">\n",
       "  <thead>\n",
       "    <tr style=\"text-align: right;\">\n",
       "      <th></th>\n",
       "      <th>x</th>\n",
       "      <th>y</th>\n",
       "      <th>z</th>\n",
       "    </tr>\n",
       "  </thead>\n",
       "  <tbody>\n",
       "    <tr>\n",
       "      <th>0</th>\n",
       "      <td>-0.997</td>\n",
       "      <td>-0.082</td>\n",
       "      <td>1</td>\n",
       "    </tr>\n",
       "    <tr>\n",
       "      <th>1</th>\n",
       "      <td>-0.993</td>\n",
       "      <td>-0.120</td>\n",
       "      <td>1</td>\n",
       "    </tr>\n",
       "    <tr>\n",
       "      <th>2</th>\n",
       "      <td>-0.993</td>\n",
       "      <td>-0.121</td>\n",
       "      <td>1</td>\n",
       "    </tr>\n",
       "    <tr>\n",
       "      <th>3</th>\n",
       "      <td>-0.989</td>\n",
       "      <td>-0.145</td>\n",
       "      <td>1</td>\n",
       "    </tr>\n",
       "    <tr>\n",
       "      <th>4</th>\n",
       "      <td>-0.990</td>\n",
       "      <td>-0.138</td>\n",
       "      <td>1</td>\n",
       "    </tr>\n",
       "  </tbody>\n",
       "</table>\n",
       "</div>"
      ],
      "text/plain": [
       "       x      y  z\n",
       "0 -0.997 -0.082  1\n",
       "1 -0.993 -0.120  1\n",
       "2 -0.993 -0.121  1\n",
       "3 -0.989 -0.145  1\n",
       "4 -0.990 -0.138  1"
      ]
     },
     "execution_count": 18,
     "metadata": {},
     "output_type": "execute_result"
    }
   ],
   "source": [
    "final_data.head()"
   ]
  },
  {
   "cell_type": "markdown",
   "metadata": {},
   "source": [
    "### Reference for Training a Classifier"
   ]
  },
  {
   "cell_type": "code",
   "execution_count": 19,
   "metadata": {},
   "outputs": [],
   "source": [
    "x= final_data.iloc[:, :2].values\n",
    "y= final_data.iloc[:, 2].values"
   ]
  }
 ],
 "metadata": {
  "kernelspec": {
   "display_name": "Python 3",
   "language": "python",
   "name": "python3"
  },
  "language_info": {
   "codemirror_mode": {
    "name": "ipython",
    "version": 3
   },
   "file_extension": ".py",
   "mimetype": "text/x-python",
   "name": "python",
   "nbconvert_exporter": "python",
   "pygments_lexer": "ipython3",
   "version": "3.8.3"
  }
 },
 "nbformat": 4,
 "nbformat_minor": 4
}
